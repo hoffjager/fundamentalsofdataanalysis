{
 "cells": [
  {
   "cell_type": "code",
   "execution_count": null,
   "metadata": {},
   "outputs": [],
   "source": [
    "# Numpy used to generate numbers\n",
    "import numpy as np\n",
    "\n",
    "# Simulating a Coin Flip\n",
    "# We can interpret 1 as heads & 0 as tails, so there's a probability of 50/50\n",
    "# Probabilities are numbers between 0 and 1 inclusive\n",
    "# If an event happens with probability of 0, it means it has a 0% chance of happening, a 1 means it will definitely happen\n",
    "# A probability of 0.1 means a 10% chance, 0.2 means a 20% chance, etc.\n",
    "\n",
    "# Flipping a fair coin (new coin flip upon re-running the code)\n",
    "np.random.binomial(1, 0.5)"
   ]
  },
  {
   "cell_type": "code",
   "execution_count": null,
   "metadata": {},
   "outputs": [],
   "source": [
    "import numpy as np\n",
    "\n",
    "# Repeated Flips\n",
    "# Flipping a fair coin 100 times\n",
    "np.random.binomial(1, 0.5, 100)\n",
    "\n",
    "# If we delete the 3rd parameter, and change the 1st parameter to 100, we can see only the coins with heads\n",
    "np.random.binomial(100, 0.5)\n",
    "\n",
    "# Which coin flips came up as heads?"
   ]
  },
  {
   "cell_type": "code",
   "execution_count": null,
   "metadata": {},
   "outputs": [],
   "source": [
    "# Twice 50/50\n",
    "# This code repeatedly flips 10 coins and prints out the first 3 times we get 5 heads\n",
    "# Number of examples\n",
    "N = 3\n",
    "# Tracking number of arrays generated\n",
    "total_no = 0\n",
    "# While loop to continue until 3 instances of 5 heads occur\n",
    "while N > 0:\n",
    "    # Add 1 to total\n",
    "    total_no = total_no + 1\n",
    "    # Tossing 10 coins\n",
    "    tosses = np.random.binomial(1, 0.5, 10)\n",
    "    # Checking if we got 5 heads\n",
    "    if tosses.sum() == 5:\n",
    "        # If we got 5 heads, print the list of heads/tails\n",
    "        print(losses)\n",
    "        # Reduce the number of examples left to find by 1\n",
    "        N = N - 1\n",
    "\n",
    "print(f'Total Generated: {total_no}')\n",
    "\n",
    "# 3 arrays of 10 fair coin flips printed randomly\n",
    "# 5 heads are in each set, found in different flips"
   ]
  },
  {
   "cell_type": "code",
   "execution_count": null,
   "metadata": {},
   "outputs": [],
   "source": [
    "# Counting Heads\n",
    "(10*9*8*7*6) // (5*4*3*2*1)\n",
    "\n",
    "# Starting flipping 10 coins, 1's & 0's will generate randomly\n",
    "# How do we pick the placeholders to house 1's?\n",
    "\n",
    "# For #1, we can put it in the 1st placeholder, 2nd or any placeholder, 10 choices available, then 9 choices are left\n",
    "# For #2, 9 choices are available, for #3, 8 choices are available, 4th 7, 5th 6 choices remain\n",
    "# For #6, 5 choices then remain and after this, all choice is gone and 0's go in the remaining placeholders\n",
    "\n",
    "# Why multiply these numbers together, instead of adding them?\n",
    "# Number of combinations\n",
    "no_combs = 0\n",
    "# Select the first position\n",
    "for first in [1, 2, 3, 4, 5, 6, 7, 8, 9, 10]:\n",
    "    # Select the second position\n",
    "    for second in [1, 2, 3, 4, 5, 6, 7, 8, 9, 10]:\n",
    "        # Ensuring both positions are different\n",
    "        if not first == second:\n",
    "            # print the combination\n",
    "            print(f'({first: 2}, {second: 2})')\n",
    "            # add one to the number of combinations\n",
    "            no_combs = no_combs + 1\n",
    "\n",
    "# printing total number of combinations\n",
    "print(f'Total combinations is {no_combs}.')\n",
    "\n",
    "# When we have 10 choices for the 1st instance & 9 choices for the 2nd instance, we multiply 10 & 9 to get the total number of combinations\n",
    "# Working out the 2nd part of the calculation: 5*4*3*2*1\n",
    "# The first line says (1,2), the 10th line is (2,1), double counted\n",
    "\n",
    "# If we inspect the list of all 90 combinations, every outcome is counted twice\n",
    "# So we need to divide 90 by 2, to get 45 distinct placements of the first two heads\n",
    "\n",
    "# For each of the 45 placements of the first two 1's, we will triple count the placement of the 3rd 1, so we divide by 3\n",
    "# 1 _ _ 1 _ 1 _ _ _ _, results from placing the 3rd 1 in the correct position for each of these placements of two 1's:\n",
    "\n",
    "# 1 _ _ 1 _ _ _ _ _ _, placing the 3rd 1 in the 6th placeholder\n",
    "# 1 _ _ _ _ 1 _ _ _ _, placing the 3rd 1 in the 4th placeholder\n",
    "# _ _ _ 1 _ 1 _ _ _ _, placing the 3rd 1 in the 1st placeholder\n",
    "\n",
    "# We count each placement of the 4th 1 four times, and the 5th 1 five times, so we divide by both 4 and 5\n",
    "# This gives division by 5*4*3*2*1"
   ]
  },
  {
   "cell_type": "markdown",
   "metadata": {},
   "source": [
    "Exercise 1:  \n",
    "If we only wanted exactly 4 heads, the equivalent calculation would be:  \n",
    "(10 x 9 x 8 x 7) / (4 x 3 x 2 x 1)  \n",
    "Does this evenly divide? What is the general formula?  \n",
    "Does it always result in a positive whole number?"
   ]
  },
  {
   "cell_type": "markdown",
   "metadata": {},
   "source": [
    "Reference: https://getcalc.com/probability-atleast-4heads-5tosses.htm  \n",
    "\n",
    "First, we want to find out the number of possible combinations from flipping 5 coins within a single array.  \n",
    "Second, we find the expected events, permutations of coin flipping where 4 heads or more would occur.  \n",
    "Finally, the probability is then calculated by dividing the number of expected events by the total possible combinations in the array."
   ]
  },
  {
   "cell_type": "code",
   "execution_count": null,
   "metadata": {},
   "outputs": [],
   "source": [
    "# possible combinations in the array A\n",
    "A = {HHHHH, HHHHT, HHHTH, HHHTT, HHTHH, HHTHT, HHTTH, HHTTT,\n",
    "HTHHH, HTHHT, HTHTH, HTHTT, HTTHH, HTTHT, HTTTH, HTTTT,\n",
    "THHHH, THHHT, THHTH, THHTT, THTHH, THTHT, THTTH, THTTT,\n",
    "TTHHH, TTHHT, TTHTH, TTHTT, TTTHH, TTTHT, TTTTH, TTTTT}\n",
    "A = 32\n",
    "\n",
    "# finding the expected events E, being exactly 4 heads in any order possible\n",
    "E = {HHHHT, HHHTH, HHTHH, HTHHH, THHHH}\n",
    "E = 5\n",
    "\n",
    "# finding the probability P(E)\n",
    "# P(E) = expected events E / possible combinations A\n",
    "E/A"
   ]
  },
  {
   "cell_type": "markdown",
   "metadata": {},
   "source": [
    "In conclusion, the probability of exactly 4 heads from 5 coin flips is 0.16, not a positive whole number."
   ]
  },
  {
   "cell_type": "code",
   "execution_count": null,
   "metadata": {},
   "outputs": [],
   "source": [
    "# Unknown Number of Heads\n",
    "# We don't know how many heads we'll get, how many possibilities are there?\n",
    "# Only one way to get no heads (all tails):\n",
    "# 0 0 0 0 0 0 0 0 0 0\n",
    "\n",
    "# Ten ways to get one head & 9 tails:\n",
    "# 1 0 0 0 0 0 0 0 0 0\n",
    "# 0 1 0 0 0 0 0 0 0 0\n",
    "# 0 0 1 0 0 0 0 0 0 0\n",
    "# etc.\n",
    "\n",
    "# There are 45 ways to get two heads, 252 ways to get five heads\n",
    "# We could calculate possibilities of getting all other numbers of heads and sum it up\n",
    "# But an easier calculation is there are 2 possibilities per flip, so 2**10 possible results from 10 coin flips\n",
    "\n",
    "2**10"
   ]
  },
  {
   "cell_type": "code",
   "execution_count": null,
   "metadata": {},
   "outputs": [],
   "source": [
    "# Exercise 2\n",
    "# There are the same number of ways to get 4 tails as there is to get 4 heads, explain why this is the case.\n",
    "\n",
    "# Research TBC"
   ]
  },
  {
   "cell_type": "code",
   "execution_count": null,
   "metadata": {},
   "outputs": [],
   "source": [
    "# Flipping 10 fair coins with Numpy\n",
    "# Picking 1 of 1,024 possible results at random\n",
    "# \"At random\" meaning each possibility has an equal chance of being selected\n",
    "# Probability therefore is 1/1,024\n",
    "1.0 / 1024.0\n",
    "\n",
    "# This gives the same chance of all heads being selected (or tails) as any other possibility"
   ]
  },
  {
   "cell_type": "code",
   "execution_count": null,
   "metadata": {},
   "outputs": [],
   "source": [
    "# The point\n",
    "# If we start out with a fair coin and flip it 10 times,\n",
    "# any sequence of 1's & 0's has the same chance of showing up\n",
    "# If you wonder what is the chance of getting a certain number of 1's, irrespective of the order, there are far more possibilities for 5 heads than 0 heads\n",
    "\n",
    "# Probability of getting 5 heads\n",
    "252 / 1024\n",
    "\n",
    "# Probability of getting 0 heads\n",
    "1 / 1024\n",
    "\n",
    "# The formula from earlier has the name choose, called comb which is built into the math library in Python\n",
    "import math\n",
    "math.comb(10, 5)\n",
    "\n",
    "# plotting the probabilities\n",
    "import matplotlib.pyplot as plt\n",
    "# number of coins to flip\n",
    "coins = 10\n",
    "# numbers from 0 to 10 inclusive\n",
    "x = list(range(coins + 1))\n",
    "# number of ways of selecting i things from 10\n",
    "y = [math.comb(coins, i) for i in x]\n",
    "# displaying x & y in a bar chart\n",
    "plt.bar(x, y)"
   ]
  },
  {
   "cell_type": "code",
   "execution_count": null,
   "metadata": {},
   "outputs": [],
   "source": [
    "# Testing numpy\n",
    "# Running 10,000 trials, keeping track of heads and plotting results\n",
    "\n",
    "# number of coins to flip\n",
    "coins = 10\n",
    "# number of trials to run\n",
    "trials = 10000\n",
    "# running the trials\n",
    "heads = np.random.binomial(coins, 0.5, trials)\n",
    "# counting unique values in the returned list\n",
    "vals, counts = np.unique(heads, return_counts = True)\n",
    "# plotting results in a histogram\n",
    "plt.bar(vals, counts)"
   ]
  },
  {
   "cell_type": "code",
   "execution_count": null,
   "metadata": {},
   "outputs": [],
   "source": [
    "# Distributions\n",
    "# Numpy has many distributions available as functions\n",
    "\n",
    "# number of coins to flip\n",
    "coins = 1\n",
    "# number of trials to run\n",
    "trials = 10000\n",
    "# running the trials\n",
    "heads = np.random.binomial(coins, 0.5, trials)\n",
    "# counting unique values in the returned list\n",
    "vals, counts = np.unique(heads, return_counts = True)\n",
    "# plotting results in a histogram\n",
    "plt.bar(vals, counts)"
   ]
  },
  {
   "cell_type": "code",
   "execution_count": null,
   "metadata": {},
   "outputs": [],
   "source": [
    "# Distributions\n",
    "# Numpy has many distributions available as functions\n",
    "\n",
    "# number of coins to flip\n",
    "coins = 10\n",
    "# number of trials to run\n",
    "trials = 10000\n",
    "# running the trials\n",
    "heads = np.random.binomial(coins, 0.5, trials)\n",
    "# counting unique values in the returned list\n",
    "vals, counts = np.unique(heads, return_counts = True)\n",
    "# plotting results in a histogram\n",
    "plt.bar(vals, counts)"
   ]
  },
  {
   "cell_type": "code",
   "execution_count": null,
   "metadata": {},
   "outputs": [],
   "source": [
    "# The number of possible outcomes\n",
    "N = 11\n",
    "# The next biggest power of 2, is 16\n",
    "B = 4\n",
    "# Flipping B number of coins\n",
    "flips = np.random.binomial(1, 0.5, B)\n",
    "# Converting to binary\n",
    "number = 0\n",
    "for i in range(len(flips)):\n",
    "    number = number + flips[i] * 2**i\n",
    "# Print the flips & decimal number\n",
    "print(flips, number)"
   ]
  },
  {
   "cell_type": "code",
   "execution_count": null,
   "metadata": {},
   "outputs": [],
   "source": [
    "# Make a function to generate and convert coin flips to integers\n",
    "def gen_number(B=4):\n",
    "    # Flipping B number of coins\n",
    "    flips = np.random.binomial(1, 0.5, B)\n",
    "    # Converting to binary\n",
    "    number = 0\n",
    "    for i in range(len(flips)):\n",
    "        number = number + flips[i] * 2**i\n",
    "    # returning number\n",
    "    return number\n",
    "\n",
    "# testing function\n",
    "gen_number()"
   ]
  },
  {
   "cell_type": "code",
   "execution_count": null,
   "metadata": {},
   "outputs": [],
   "source": [
    "# running the function several times\n",
    "# number of outcomes\n",
    "no_outcomes = 10000\n",
    "# generating outcomes\n",
    "outcomes = [gen_number() for i in range(no_outcomes)]\n",
    "# plot the counts of outcomes &\n",
    "# count the unique values in the returned list\n",
    "vals, counts = np.unique(outcomes, return_counts = True)\n",
    "# plotting results in a histogram\n",
    "plt.bar(vals, counts)"
   ]
  },
  {
   "cell_type": "code",
   "execution_count": null,
   "metadata": {},
   "outputs": [],
   "source": [
    "# Possible outcomes in flipping 4 coins listed below:\n",
    "# 0000, 0001, 0010, 0011, 0100, 0101, 0110, 0111, 1000, 1001, 1010, 1011, 1100, 1101, 1110, 1111\n",
    "# Each instance is equally likely to occur\n",
    "# We are interested in the sequencing of heads and tails, rewritten in binary as 1's & 0's\n",
    "\n",
    "# running the function several times\n",
    "# number of outcomes\n",
    "no_outcomes = 10000\n",
    "# generating outcomes\n",
    "outcomes = []\n",
    "while len(outcomes) < no_outcomes:\n",
    "    next_number = gen_number()\n",
    "    if next_number <= 10:\n",
    "        outcomes.append(next_number)\n",
    "# plot the counts of outcomes &\n",
    "# count the unique values in the returned list\n",
    "vals, counts = np.unique(outcomes, return_counts = True)\n",
    "# plotting results in a histogram\n",
    "plt.bar(vals, counts)"
   ]
  },
  {
   "cell_type": "code",
   "execution_count": null,
   "metadata": {},
   "outputs": [],
   "source": [
    "# running the function several times\n",
    "# number of outcomes\n",
    "no_outcomes = 10000\n",
    "# generating outcomes\n",
    "outcomes = []\n",
    "while len(outcomes) < no_outcomes:\n",
    "    next_number = gen_number()\n",
    "    if 1 <= next_number and next_number <= 10:\n",
    "        outcomes.append(next_number)\n",
    "# plot the counts of outcomes &\n",
    "# count the unique values in the returned list\n",
    "vals, counts = np.unique(outcomes, return_counts = True)\n",
    "# plotting results in a histogram\n",
    "plt.bar(vals, counts)"
   ]
  },
  {
   "cell_type": "code",
   "execution_count": null,
   "metadata": {},
   "outputs": [],
   "source": [
    "# Random Distributions in Numpy\n",
    "# https://numpy.org/doc/stable/reference/random/index.html\n",
    "\n",
    "# creating a random number generator (rng)\n",
    "rng = np.random.default_rng()\n",
    "\n",
    "vals = rng.standard_normal(10)\n",
    "vals\n",
    "\n",
    "more_vals = rng.standard_normal(10)\n",
    "more_vals\n",
    "\n",
    "np.random.standard_normal(10)\n",
    "\n",
    "rng = np.random.default_rng(0)\n",
    "\n",
    "vals = rng.standard_normal(10)\n",
    "vals"
   ]
  },
  {
   "cell_type": "code",
   "execution_count": null,
   "metadata": {},
   "outputs": [],
   "source": [
    "# Standard Normal\n",
    "# Creating new, seeded random number generator\n",
    "rng = np.random.default_rng(0)\n",
    "# Generating 1000 numbers on a standard normal distribution\n",
    "samples = rng.standard_normal(10000)\n",
    "\n",
    "# Creating a figure\n",
    "fig, ax = plt.subplots()\n",
    "# Creating a histogram\n",
    "ax.hist(samples, bins = 100)"
   ]
  },
  {
   "cell_type": "markdown",
   "metadata": {},
   "source": [
    "Exercise 3:  \n",
    "Plot bar charts/histograms of any three different distributions listed in the link below:  \n",
    "# https://numpy.org/doc/stable/reference/random/generator.html#distributions"
   ]
  },
  {
   "cell_type": "code",
   "execution_count": null,
   "metadata": {},
   "outputs": [],
   "source": [
    "# Plot 1: Binomial Distribution\n",
    "# This distribution expresses probability of a given number of successes in a sequence of experiments with a known probability for success in each experiment\n",
    "# In this example, there will be 100 experiments conducted with a 50% probability of success per experiment.\n",
    "# https://www.alphacodingskills.com/numpy/numpy-binomial-distribution.php\n",
    "\n",
    "import matplotlib.pyplot as plt\n",
    "import numpy as np\n",
    "\n",
    "np.random.seed(10)\n",
    "size = 10000\n",
    "sample = np.random.binomial(100, 0.5, size)\n",
    "bin = np.arange(0, 100, 1)\n",
    "\n",
    "plt.hist(sample, bins = bin, edgecolor = 'red')\n",
    "plt.title('Binomial Distribution')\n",
    "plt.show()"
   ]
  },
  {
   "cell_type": "code",
   "execution_count": null,
   "metadata": {},
   "outputs": [],
   "source": [
    "# Plot 2: Gamma Distribution\n",
    "# This distribution is used to model probabilities related to waiting times.\n",
    "# The x axis will display potential values from the Gamma distributed random variable\n",
    "# The y axis will display the corresponding pdf(probability density function) values of Gamma\n",
    "# https://www.statology.org/gamma-distribution-in-python/\n",
    "\n",
    "import scipy.stats as stats\n",
    "import matplotlib.pyplot as plt\n",
    "import numpy as np\n",
    "\n",
    "# establishing values for the x axis\n",
    "x = np.linspace(0, 40, 100)\n",
    "\n",
    "# setting shape parameter to 5 and scale parameter to 3\n",
    "y = stats.gamma.pdf(x, a = 5, scale = 3)\n",
    "\n",
    "# creating & displaying plot of the random Gamma distribution\n",
    "plt.plot(x, y)\n",
    "plt.show()"
   ]
  },
  {
   "cell_type": "code",
   "execution_count": null,
   "metadata": {},
   "outputs": [],
   "source": [
    "# Plot 3: Geometric Distribution\n",
    "# This distribution expresses the probability distribution of a random variable representing a number of Bernoulli trials, which deem whether values either succeed or fail.\n",
    "# https://www.alphacodingskills.com/numpy/numpy-geometric-distribution.php\n",
    "# https://vitalflux.com/geometric-distribution-explained-with-python-examples/\n",
    "\n",
    "import matplotlib.pyplot as plt\n",
    "import numpy as np\n",
    "\n",
    "np.random.seed(10)\n",
    "\n",
    "size = 10000\n",
    "sample = np.random.geometric(0.5, size)\n",
    "bin = np.arange(0, 20, 1)\n",
    "\n",
    "plt.hist(sample, bins = bin, edgecolor = 'green')\n",
    "plt.title('Geometric Distribution')\n",
    "plt.show()"
   ]
  }
 ],
 "metadata": {
  "kernelspec": {
   "display_name": "Python 3.10.x 64-bit (microsoft store)",
   "language": "python",
   "name": "python3"
  },
  "language_info": {
   "codemirror_mode": {
    "name": "ipython",
    "version": 3
   },
   "file_extension": ".py",
   "mimetype": "text/x-python",
   "name": "python",
   "nbconvert_exporter": "python",
   "pygments_lexer": "ipython3",
   "version": "3.10"
  },
  "orig_nbformat": 4,
  "vscode": {
   "interpreter": {
    "hash": "a1f82d0fd1be96d5c2cfc8b5b6d623de297a3323bdcee05967133f841892dc18"
   }
  }
 },
 "nbformat": 4,
 "nbformat_minor": 2
}
