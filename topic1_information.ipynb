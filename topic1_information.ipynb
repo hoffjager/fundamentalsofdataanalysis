{
 "cells": [
  {
   "cell_type": "code",
   "execution_count": null,
   "metadata": {},
   "outputs": [],
   "source": [
    "# make http requests for resources on the Internet\n",
    "import urllib.request\n",
    "\n",
    "# URL for the book Alice in Wonderland\n",
    "alice = 'https://www.gutenberg.org/files/11/11-0.txt'\n",
    "\n",
    "# Retrieve the book\n",
    "classic = list(urllib.request.urlopen(alice))\n",
    "\n",
    "# Decode lines of text and strip endings\n",
    "classic = [line.decode('utf-8-sig').strip() for line in classic]\n",
    "\n",
    "# Retrieve a specified paragraph and print\n",
    "paragraph = ''.join(classic[58:63])\n",
    "print(paragraph)"
   ]
  },
  {
   "cell_type": "code",
   "execution_count": null,
   "metadata": {},
   "outputs": [],
   "source": [
    "# This code block will clean the paragraph\n",
    "# Lower case everything\n",
    "hatter = paragraph.lower()\n",
    "\n",
    "# All characters and a space included\n",
    "chars = 'abcdefghijklmnopqrstuvwxyz '\n",
    "\n",
    "# Strip anything that isn't a letter or a space\n",
    "hatter = ''.join([c for c in hatter if c in chars])\n",
    "print(hatter)"
   ]
  },
  {
   "cell_type": "code",
   "execution_count": null,
   "metadata": {},
   "outputs": [],
   "source": []
  }
 ],
 "metadata": {
  "language_info": {
   "name": "python"
  },
  "orig_nbformat": 4
 },
 "nbformat": 4,
 "nbformat_minor": 2
}
