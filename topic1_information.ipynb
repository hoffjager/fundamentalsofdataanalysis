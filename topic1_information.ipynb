{
 "cells": [
  {
   "cell_type": "markdown",
   "metadata": {},
   "source": [
    "Comparisons:  \n",
    "We will examine the classic book, Alice in Wonderland:"
   ]
  },
  {
   "cell_type": "code",
   "execution_count": null,
   "metadata": {},
   "outputs": [],
   "source": [
    "# importing module to make http requests\n",
    "import urllib.request\n",
    "\n",
    "# the URL for the book Alice in Wonderland\n",
    "alice_url = 'https://www.gutenberg.org/files/11/11-0.txt'\n",
    "\n",
    "# Retrieving the book from the URL\n",
    "wonderland = list(urllib.request.urlopen(alice_url))\n",
    "\n",
    "# Decoding all lines and stripping line endings\n",
    "wonderland = [line.decode('utf-8-sig').strip() for line in wonderland]\n",
    "\n",
    "# Retrieving & printing a specified paragraph\n",
    "para = ''.join(wonderland[58:63])\n",
    "print(para)"
   ]
  },
  {
   "cell_type": "markdown",
   "metadata": {},
   "source": [
    "The above paragraph printed but it contains typos in some areas.  \n",
    "We will clean the paragraph of these typos:  "
   ]
  },
  {
   "cell_type": "code",
   "execution_count": null,
   "metadata": {},
   "outputs": [],
   "source": [
    "# Lower case the paragraph\n",
    "madhatter = para.lower()\n",
    "\n",
    "# Creating variable, chars, with all letters,\n",
    "# also including a space character\n",
    "chars = 'abcdefghijklmnopqrstuvwxyz '\n",
    "\n",
    "# Stripping anything that isn't in the chars variable\n",
    "madhatter = ''.join([c for c in madhatter if c in chars])\n",
    "print(madhatter)"
   ]
  },
  {
   "cell_type": "markdown",
   "metadata": {},
   "source": [
    "The paragraph now has no punctuation, these were not designated within the chars variable.  \n",
    "We will generate a random sequence of letters from the chars variable via the random Python module."
   ]
  },
  {
   "cell_type": "code",
   "execution_count": null,
   "metadata": {},
   "outputs": [],
   "source": [
    "import random\n",
    "print(\"Here's a random character: \" + random.choice(chars) + \"\\n\")\n",
    "\n",
    "# retrieving the length of the madhatter paragraph\n",
    "N = len(madhatter)\n",
    "print(\"Length of madhatter paragraph:\", N, \"\\n\")\n",
    "\n",
    "# generating N random characters derived from the chars variable\n",
    "gen = random.choices(chars, k = N)\n",
    "\n",
    "# Joining random characters together to form strings\n",
    "# Printing random characters & the total number of them\n",
    "gen = ''.join(gen)\n",
    "print(\"Random characters repurposed into strings:\\n\")\n",
    "print(gen)"
   ]
  },
  {
   "cell_type": "markdown",
   "metadata": {},
   "source": [
    "Weights count the occurrences of each designated character throughout the entire book."
   ]
  },
  {
   "cell_type": "code",
   "execution_count": null,
   "metadata": {},
   "outputs": [],
   "source": [
    "# retrieving Alice in Wonderland as one large lower-case string\n",
    "entirebook = ''.join(wonderland[26:]).lower()\n",
    "\n",
    "# creating weights\n",
    "weights = [entirebook.count(c) for c in chars]\n",
    "weights\n",
    "\n",
    "# generating a string using the weights and joining together\n",
    "wgen = random.choices(chars, weights = weights, k = N)\n",
    "wgen = ''.join(wgen)\n",
    "print(\"Strings generated and joined using weights:\\n\")\n",
    "print(wgen)\n",
    "\n",
    "# creating weights which include the previous character\n",
    "twofer = {c:{d:entirebook.count(c+d) for d in chars} for c in chars}\n",
    "twofer"
   ]
  },
  {
   "cell_type": "code",
   "execution_count": null,
   "metadata": {},
   "outputs": [],
   "source": [
    "# using a for loop to go through the chars variable\n",
    "\n",
    "for i in range(len(chars)):\n",
    "    # printing all characters and how many times\n",
    "    # each character appears in the book Alice in Wonderland\n",
    "    print(f'{chars[i]}: {weights[i]}')"
   ]
  },
  {
   "cell_type": "code",
   "execution_count": null,
   "metadata": {},
   "outputs": [],
   "source": [
    "# Starting with a space character in pairs variable\n",
    "pairs = ' '\n",
    "\n",
    "# conducting the following N-1 times\n",
    "for i in range(1, N):\n",
    "    # creating weights where the previous character\n",
    "    # is the last character in pairs\n",
    "    wt = twofer[pairs[-1]]\n",
    "    # turning weights into a list ordered by characters\n",
    "    wt = [wt[c] for c in chars]\n",
    "    # randomly choosing the next character using these weights\n",
    "    nextchar = random.choices(chars, weights = wt, k = 1)[0]\n",
    "    # appending the characters into pairs\n",
    "    pairs = pairs + nextchar\n",
    "pairs"
   ]
  },
  {
   "cell_type": "markdown",
   "metadata": {},
   "source": [
    "Exercise 1:  \n",
    "Adapt the code above to generate a 1,000 character long string with weights based on the previous two characters:"
   ]
  },
  {
   "cell_type": "code",
   "execution_count": null,
   "metadata": {},
   "outputs": [],
   "source": [
    "import urllib.request\n",
    "import random\n",
    "\n",
    "# URL for Alice in Wonderland\n",
    "alice_url = 'https://www.gutenberg.org/files/11/11-0.txt'\n",
    "\n",
    "# retrieving the book from the URL\n",
    "wonderland = list(urllib.request.urlopen(alice_url))\n",
    "\n",
    "# decoding all lines and stripping line endings\n",
    "wonderland = [line.decode('utf-8-sig').strip() for line in wonderland]\n",
    "\n",
    "# creating variable containing the alphabet and a space character\n",
    "chars = 'abcdefghijklmnopqrstuvwxyz '\n",
    "\n",
    "# retrieving Alice in Wonderland as one large lower-case string\n",
    "entirebook = ''.join(wonderland[26:]).lower()\n",
    "\n",
    "# retrieving the length of the entire book\n",
    "N = len(entirebook)\n",
    "print(\"Total Characters:\", N)\n",
    "\n",
    "# creating weights, counting the occurrences of each\n",
    "# character throughout the entire book\n",
    "weights = [entirebook.count(c) for c in chars]\n",
    "weights\n",
    "\n",
    "# creating weights which include the previous character\n",
    "twofer = {c:{d:entirebook.count(c+d) for d in chars} for c in chars}\n",
    "twofer\n",
    "\n",
    "# using a for loop to go through all characters\n",
    "for i in range(len(chars)):\n",
    "    # printing all characters and how many times\n",
    "    # each character appears in the entire book\n",
    "    print(f'{chars[i]}: {weights[i]}')\n",
    "\n",
    "# starting with a space character in the pairs variable\n",
    "pairs = ' '\n",
    "\n",
    "# conducting the following loop N-1 times\n",
    "for i in range(1, N):\n",
    "    # creating weights where the previous character\n",
    "    # is the last character in pairs\n",
    "    wt = twofer[pairs[-1]]\n",
    "    # turning weights into a list that is ordered by chars\n",
    "    wt = [wt[c] for c in chars]\n",
    "    # randomly choosing the next character using these weights\n",
    "    nextchar = random.choices(chars, weights = wt, k = 1)[0]\n",
    "    # appending these characters into pairs\n",
    "    pairs = pairs + nextchar\n",
    "pairs"
   ]
  },
  {
   "cell_type": "markdown",
   "metadata": {},
   "source": [
    "Entropy  \n",
    "The word entropy refers to scenarios with less organisation, control and less constraints/restrictions.  \n",
    "\n",
    "If I was offered a coffee, is it a mocha or cappuccino (between 2 types)?  \n",
    "If the vendor had only mocha, the entropy (uncertainty) would be 0:  \n",
    "\n",
    "P (Coffee Sachet == Mocha) = 1  \n",
    "P (Coffee Sachet == Cappuccino) = 1 - 1 = 0  \n",
    "Guaranteed Mocha  \n",
    "\n",
    "However, in the case of mocha & cappuccino available to me:  \n",
    "\n",
    "P (Coffee Sachet == Mocha) = 0.5  \n",
    "P (Coffee Sachet == Cappuccino) = 1 - 0.5 = 0.5  \n",
    "50/50 likelihood of mocha or cappuccino  "
   ]
  },
  {
   "cell_type": "code",
   "execution_count": null,
   "metadata": {},
   "outputs": [],
   "source": [
    "# importing Math functions\n",
    "import math\n",
    "\n",
    "# printing 50%, 25% and 75% probabilities \n",
    "print(-math.log(0.5, 2))\n",
    "print(-math.log(0.25, 2))\n",
    "print(-math.log(0.75, 2))"
   ]
  },
  {
   "cell_type": "markdown",
   "metadata": {},
   "source": [
    "The information content for the above calculations:  \n",
    "print(-math.log(0.5, 2)) corresponds to 1 bit  \n",
    "print(-math.log(0.25, 2)) corresponds to 2 bits  \n",
    "print(-math.log(0.75, 2)) corresponds to 0.4 bits  \n",
    "\n",
    "If 1 is sent with a probability of 3/4, followed by 0 being sent with a probability of 1/4, what is the overall information content?  \n",
    "Claude Shannon proposed calculating the average information content for all messages that were sent.  "
   ]
  },
  {
   "cell_type": "code",
   "execution_count": null,
   "metadata": {},
   "outputs": [],
   "source": [
    "# 50/50 probability\n",
    "p = [0.5, 0.5]\n",
    "print(-sum([p_i * math.log(p_i, 2) for p_i in p]))\n",
    "\n",
    "# 25/75 probabilities\n",
    "p = [0.25, 0.75]\n",
    "print(-sum([p_i * math.log(p_i, 2) for p_i in p]))"
   ]
  },
  {
   "cell_type": "code",
   "execution_count": null,
   "metadata": {},
   "outputs": [],
   "source": [
    "# importing plotting & numerical capabilities\n",
    "import matplotlib.pyplot as plt\n",
    "import numpy as np\n",
    "\n",
    "# acquiring the range of p values\n",
    "p_of_1 = np.linspace(0.01, 0.99, 1000)\n",
    "entropy = -(p_of_1 * np.log2(p_of_1) + (1.0 - p_of_1) * np.log2(1.0 - p_of_1))\n",
    "\n",
    "# creating the plot and labelling the axes\n",
    "fig, ax = plt.subplots(figsize = (14, 6))\n",
    "ax.plot(p_of_1, entropy, color = 'red')\n",
    "ax.set_xlabel('Probability the bit is 1 and not 0')\n",
    "ax.set_ylabel('Entropy')"
   ]
  },
  {
   "cell_type": "markdown",
   "metadata": {},
   "source": [
    "Fire Alarms"
   ]
  },
  {
   "cell_type": "code",
   "execution_count": null,
   "metadata": {},
   "outputs": [],
   "source": [
    "# calculating the information content of a fire alarm\n",
    "mins_in_year = 365 * 24 * 60\n",
    "print(mins_in_year)\n",
    "\n",
    "# probability of the fire alarm activating\n",
    "p_alarm = 10/mins_in_year\n",
    "print(p_alarm)"
   ]
  },
  {
   "cell_type": "code",
   "execution_count": null,
   "metadata": {},
   "outputs": [],
   "source": [
    "# plugging data into formula below to calculate\n",
    "# value of information content of alarm activating\n",
    "print(-math.log(p_alarm, 2))\n",
    "# versus alarm silenced\n",
    "print(-math.log(1.0 - p_alarm, 2))"
   ]
  },
  {
   "cell_type": "code",
   "execution_count": null,
   "metadata": {},
   "outputs": [],
   "source": [
    "# Information content regarding the fire alarm\n",
    "p = [p_alarm, 1.0 - p_alarm]\n",
    "entropy = -sum([p_i * math.log(p_i, 2) for p_i in p])\n",
    "print(f'{entropy} bits')"
   ]
  },
  {
   "cell_type": "markdown",
   "metadata": {},
   "source": [
    "PIN Codes"
   ]
  },
  {
   "cell_type": "code",
   "execution_count": null,
   "metadata": {},
   "outputs": [],
   "source": [
    "# PIN Codes are normally 4 digits with 10,000 possible combinations\n",
    "-math.log(1.0/10000, 2)"
   ]
  },
  {
   "cell_type": "code",
   "execution_count": null,
   "metadata": {},
   "outputs": [],
   "source": [
    "# Entropy of a 4 digit PIN code\n",
    "p = [1.0/10000 for i in range(10000)]\n",
    "entropy = -sum([p_i * math.log(p_i, 2) for p_i in p])\n",
    "print(f'{entropy} bits')"
   ]
  },
  {
   "cell_type": "code",
   "execution_count": null,
   "metadata": {},
   "outputs": [],
   "source": [
    "# Entropy of a 6 digit PIN code\n",
    "p = [1.0/1000000 for i in range(1000000)]\n",
    "entropy = -sum([p_i * math.log(p_i, 2) for p_i in p])\n",
    "print(f'{entropy} bits')"
   ]
  },
  {
   "cell_type": "markdown",
   "metadata": {},
   "source": [
    "Exercise 2: Explain why the log of zero is undefined.  \n",
    "  \n",
    "log0 is deemed undefined by mathematicians, if you have a number to the power of another number, it is impossible to get a result of zero.  \n",
    "When we can't find a number for x in this formula:  \n",
    "logb^(x)  \n",
    "The base(b) to the power of x will equal zero.  \n",
    "So base(b) log of zero, ie, logb^(0) is deemed undefined."
   ]
  },
  {
   "cell_type": "markdown",
   "metadata": {},
   "source": [
    "References:  \n",
    "https://github.com/ianmcloughlin/2223-S1-fund-data-analysis/blob/main/notebooks/01-information.ipynb  \n",
    "https://tdan.com/what-alice-in-wonderland-can-teach-us-about-data-analytics/22498  \n",
    "https://richardbrath.wordpress.com/2021/10/31/58-ways-to-visualize-alice-in-wonderland/  \n",
    "https://www.itsoc.org/about/shannon  \n",
    "https://www.educative.io/answers/how-to-generate-a-random-string-in-python  \n",
    "https://www.geeksforgeeks.org/python-generate-random-string-of-given-length/  \n",
    "http://www.unit-conversion.info/texttools/random-string-generator/  \n",
    "https://towardsdatascience.com/fundamentals-of-statistics-for-data-scientists-and-data-analysts-69d93a05aae7  \n",
    "https://miro.com/templates/random-words/  \n",
    "https://www.pewresearch.org/methods/2018/01/26/how-different-weighting-methods-work/  \n",
    "https://www.analyticsvidhya.com/blog/2020/11/entropy-a-key-concept-for-all-data-science-beginners/  \n",
    "https://machinelearningmastery.com/what-is-information-entropy/  "
   ]
  }
 ],
 "metadata": {
  "kernelspec": {
   "display_name": "Python 3 (ipykernel)",
   "language": "python",
   "name": "python3"
  },
  "language_info": {
   "codemirror_mode": {
    "name": "ipython",
    "version": 3
   },
   "file_extension": ".py",
   "mimetype": "text/x-python",
   "name": "python",
   "nbconvert_exporter": "python",
   "pygments_lexer": "ipython3"
  },
  "vscode": {
   "interpreter": {
    "hash": "a1f82d0fd1be96d5c2cfc8b5b6d623de297a3323bdcee05967133f841892dc18"
   }
  }
 },
 "nbformat": 4,
 "nbformat_minor": 2
}
