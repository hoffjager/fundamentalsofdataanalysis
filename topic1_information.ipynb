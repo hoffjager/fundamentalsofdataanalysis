{
 "cells": [
  {
   "cell_type": "code",
   "execution_count": null,
   "metadata": {},
   "outputs": [],
   "source": [
    "# Information\n",
    "\n",
    "# Comparisons\n",
    "# Referencing lecture notes & web pages from the Internet:\n",
    "# https://github.com/ianmcloughlin/2223-S1-fund-data-analysis/blob/main/notebooks/01-information.ipynb\n",
    "# https://tdan.com/what-alice-in-wonderland-can-teach-us-about-data-analytics/22498\n",
    "# https://richardbrath.wordpress.com/2021/10/31/58-ways-to-visualize-alice-in-wonderland/\n",
    "# https://www.itsoc.org/about/shannon\n",
    "# https://www.educative.io/answers/how-to-generate-a-random-string-in-python\n",
    "# https://www.geeksforgeeks.org/python-generate-random-string-of-given-length/\n",
    "# http://www.unit-conversion.info/texttools/random-string-generator/\n",
    "# https://towardsdatascience.com/fundamentals-of-statistics-for-data-scientists-and-data-analysts-69d93a05aae7\n",
    "# https://miro.com/templates/random-words/\n",
    "# https://www.pewresearch.org/methods/2018/01/26/how-different-weighting-methods-work/\n",
    "\n",
    "# making http request for Internet resources\n",
    "import urllib.request\n",
    "\n",
    "# the URL for the book Alice in Wonderland\n",
    "alice_url = 'https://www.gutenberg.org/files/11/11-0.txt'\n",
    "\n",
    "# Retrieving the book\n",
    "wonderland = list(urllib.request.urlopen(alice_url))\n",
    "\n",
    "# Decoding all lines and stripping line endings\n",
    "wonderland = [line.decode('utf-8-sig').strip() for line in wonderland]\n",
    "\n",
    "# Retrieving & printing a specified paragraph\n",
    "para = ''.join(wonderland[58:63])\n",
    "print(para)"
   ]
  },
  {
   "cell_type": "code",
   "execution_count": null,
   "metadata": {},
   "outputs": [],
   "source": [
    "# The above paragraph printed but it contains typos in some areas\n",
    "\n",
    "# Cleaning the above paragraph of typos\n",
    "# Lower case the paragraph\n",
    "madhatter = para.lower()\n",
    "\n",
    "# Creating variable, chars, with all letters, also including a space character\n",
    "chars = 'abcdefghijklmnopqrstuvwxyz '\n",
    "\n",
    "# Stripping anything that isn't in the variable chars\n",
    "madhatter = ''.join([c for c in madhatter if c in chars])\n",
    "print(madhatter)"
   ]
  },
  {
   "cell_type": "code",
   "execution_count": null,
   "metadata": {},
   "outputs": [],
   "source": [
    "# The paragraph now has no punctuation, these weren't designated within the chars variable.\n",
    "\n",
    "# Generating a random sequence of letters from the chars variable\n",
    "# by using the random module in Python\n",
    "import random\n",
    "print(random.choice(chars))\n",
    "\n",
    "# Retrieving the length of the above paragraph\n",
    "N = len(madhatter)\n",
    "print(N)\n",
    "\n",
    "# Generating N random characters derived from the chars variable\n",
    "gen = random.choices(chars, k = N)\n",
    "\n",
    "# Joining random characters together to form strings\n",
    "gen = ''.join(gen)\n",
    "print(gen)"
   ]
  },
  {
   "cell_type": "code",
   "execution_count": null,
   "metadata": {},
   "outputs": [],
   "source": [
    "# Retrieving the entire book Alice in Wonderland as one large lower-case string\n",
    "entirebook = ''.join(wonderland[26:]).lower()\n",
    "\n",
    "# Creating weights:\n",
    "# A weight will count the occurrences of each character throughout\n",
    "# the entire book\n",
    "weights = [entirebook.count(c) for c in chars]\n",
    "weights\n",
    "\n",
    "# Generating a string using the weights and joining together\n",
    "wgen = random.choices(chars, weights = weights, k = N)\n",
    "wgen = ''.join(wgen)\n",
    "print(wgen)"
   ]
  },
  {
   "cell_type": "code",
   "execution_count": null,
   "metadata": {},
   "outputs": [],
   "source": [
    "# Creating weights which include the previous character\n",
    "twofer = {c:{d:entirebook.count(c+d) for d in chars} for c in chars}\n",
    "twofer"
   ]
  },
  {
   "cell_type": "code",
   "execution_count": null,
   "metadata": {},
   "outputs": [],
   "source": [
    "# Looping through the chars variable with a for loop\n",
    "for i in range(len(chars)):\n",
    "    # Printing all characters in the variable and how many times\n",
    "    # each character appears in the book Alice in Wonderland\n",
    "    print(f'{chars[i]}:{weights[i]}')"
   ]
  },
  {
   "cell_type": "code",
   "execution_count": null,
   "metadata": {},
   "outputs": [],
   "source": [
    "# Starting with a space character in pairs variable\n",
    "pairs = ' '\n",
    "\n",
    "# Conduct the following N-1 times\n",
    "for i in range(1, N):\n",
    "    # Creating the weights where the previous character is the last character in pairs\n",
    "    wt = twofer[pairs[-1]]\n",
    "    # Turning wt into a list that is ordered by chars\n",
    "    wt = [wt[c] for c in chars]\n",
    "    # Randomly choosing the next character using those weights\n",
    "    nextchar = random.choices(chars, weights=wt, k=1)[0]\n",
    "    # Appending the characters into pairs\n",
    "    pairs = pairs + nextchar\n",
    "pairs"
   ]
  },
  {
   "cell_type": "code",
   "execution_count": null,
   "metadata": {},
   "outputs": [],
   "source": [
    "# Exercise 1: Adapt the code above to generate a 1000 character long string with weights based on the previous two characters\n",
    "# Editing the code below after more research\n",
    "\n",
    "# Starting with a space\n",
    "pairs = ' '\n",
    "\n",
    "# Initialising the length of the string to 1,000 characters\n",
    "N = 1000\n",
    "\n",
    "# Conduct the following for loop N-1 times\n",
    "for i in range(1, N):\n",
    "    # Getting the weights where the previous character is the last two characters in pairs\n",
    "    wt = twofer[pairs[-1]]\n",
    "    # Turning wt into a list that is ordered by chars\n",
    "    wt = [wt[c] for c in chars]\n",
    "    # Randomly choosing the next character using the weights\n",
    "    nextchar = random.choices(chars, weights=wt, k=1)[0]\n",
    "    # Appending the character into pairs\n",
    "    pairs = pairs + nextchar\n",
    "pairs"
   ]
  },
  {
   "cell_type": "code",
   "execution_count": null,
   "metadata": {},
   "outputs": [],
   "source": [
    "# Entropy\n",
    "\n",
    "# Referencing lecture notes & web pages from the Internet:\n",
    "# https://github.com/ianmcloughlin/2223-S1-fund-data-analysis/blob/main/notebooks/01-information.ipynb\n",
    "# https://www.analyticsvidhya.com/blog/2020/11/entropy-a-key-concept-for-all-data-science-beginners/\n",
    "# https://machinelearningmastery.com/what-is-information-entropy/\n",
    "\n",
    "# The word entropy refers to scenarios with less organisation, control and less constraints/restrictions\n",
    "# If I was offered a coffee, is it a mocha or cappuccino (between 2 types)?\n",
    "# If the vendor had only mocha, the entropy (uncertainty) would be 0:\n",
    "# P(Coffee Sachet == Mocha) = 1\n",
    "# P(Coffee Sachet == Cappuccino) = 1 - 1 = 0\n",
    "# Guaranteed Mocha\n",
    "\n",
    "# However, in the case of mocha & cappuccino available to me:\n",
    "# P(Coffee Sachet == Mocha) = 0.5\n",
    "# P(Coffee Sachet == Cappuccino) = 1 - 0.5 = 0.5\n",
    "# 50/50 likelihood of mocha or cappuccino\n",
    "\n",
    "# importing Math functions\n",
    "import math\n",
    "print(-math.log(0.5,2))\n",
    "print(-math.log(0.25,2))\n",
    "print(-math.log(0.75,2))"
   ]
  },
  {
   "cell_type": "code",
   "execution_count": null,
   "metadata": {},
   "outputs": [],
   "source": [
    "# Information content for the calculations above:\n",
    "# 1 bit\n",
    "# 2 bits\n",
    "# 0.4 bits\n",
    "\n",
    "p = [0.5, 0.5]\n",
    "print(-sum([p_i * math.log(p_i, 2) for p_i in p]))\n",
    "\n",
    "# if 1 is sent with probability of 3/4, followed by 0 sent with probability of 1/4, what's the overall information content?\n",
    "# Claude Shannon proposed calculating the average content for all messages sent\n",
    "p = [0.25, 0.75]\n",
    "print(-sum([p_i * math.log(p_i, 2) for p_i in p]))"
   ]
  },
  {
   "cell_type": "code",
   "execution_count": null,
   "metadata": {},
   "outputs": [],
   "source": [
    "# import plotting & numerical capabilities\n",
    "import matplotlib.pyplot as plt\n",
    "import numpy as np\n",
    "\n",
    "# acquiring the range of p values\n",
    "p_of_1 = np.linspace(0.01, 0.99, 1000)\n",
    "entropy = -(p_of_1 * np.log2(p_of_1) + (1.0 - p_of_1) * np.log2(1.0 - p_of_1))\n",
    "\n",
    "# creating the plot and labelling the axes\n",
    "fig, ax = plt.subplots(figsize = (14, 6))\n",
    "ax.plot(p_of_1, entropy, color = 'red')\n",
    "ax.set_xlabel('Probability the bit is 1 and not 0')\n",
    "ax.set_ylabel('Entropy')"
   ]
  },
  {
   "cell_type": "code",
   "execution_count": null,
   "metadata": {},
   "outputs": [],
   "source": [
    "# Fire Alarms\n",
    "# calculating the information content of a fire alarm\n",
    "mins_in_year = 365 * 24 * 60\n",
    "print(mins_in_year)\n",
    "\n",
    "# probability of the fire alarm activating\n",
    "p_alarm = 10/mins_in_year\n",
    "print(p_alarm)"
   ]
  },
  {
   "cell_type": "code",
   "execution_count": null,
   "metadata": {},
   "outputs": [],
   "source": [
    "# plugging data into formula below to calculate value of information content of alarm activating\n",
    "print(-math.log(p_alarm, 2))\n",
    "# versus alarm silenced\n",
    "print(-math.log(1.0 - p_alarm, 2))"
   ]
  },
  {
   "cell_type": "code",
   "execution_count": null,
   "metadata": {},
   "outputs": [],
   "source": [
    "# Information content regarding the fire alarm\n",
    "p = [p_alarm, 1.0 - p_alarm]\n",
    "entropy = -sum([p_i * math.log(p_i, 2) for p_i in p])\n",
    "print(f'{entropy} bits')"
   ]
  },
  {
   "cell_type": "code",
   "execution_count": null,
   "metadata": {},
   "outputs": [],
   "source": [
    "# PIN Codes\n",
    "# PIN Codes are normally 4 digits with 10,000 possible combinations\n",
    "-math.log(1.0/10000, 2)"
   ]
  },
  {
   "cell_type": "code",
   "execution_count": null,
   "metadata": {},
   "outputs": [],
   "source": [
    "# Entropy of a 4 digit PIN code\n",
    "p = [1.0/10000 for i in range(10000)]\n",
    "entropy = -sum([p_i * math.log(p_i, 2) for p_i in p])\n",
    "print(f'{entropy} bits')"
   ]
  },
  {
   "cell_type": "code",
   "execution_count": null,
   "metadata": {},
   "outputs": [],
   "source": [
    "# Entropy of a 6 digit PIN code\n",
    "p = [1.0/1000000 for i in range(1000000)]\n",
    "entropy = -sum([p_i * math.log(p_i, 2) for p_i in p])\n",
    "print(f'{entropy} bits')"
   ]
  },
  {
   "cell_type": "code",
   "execution_count": null,
   "metadata": {},
   "outputs": [],
   "source": [
    "# Exercise 2: Explain why the log of zero is undefined:\n",
    "\n",
    "# Log0 is deemed undefined by mathematicians, if you have a number to the power of another number, it is impossible to get a result of 0.\n",
    "# https://www.rapidtables.com/math/algebra/logarithm/Logarithm_of_0.html\n",
    "\n",
    "# When we can't find a number for x in the following formula:\n",
    "# logb(x), the base (b) to the power of x will equal 0\n",
    "# Therefore, Base (b) log of zero, ie, logb(0) is not defined"
   ]
  }
 ],
 "metadata": {
  "kernelspec": {
   "display_name": "Python 3.10.8 64-bit (microsoft store)",
   "language": "python",
   "name": "python3"
  },
  "language_info": {
   "codemirror_mode": {
    "name": "ipython",
    "version": 3
   },
   "file_extension": ".py",
   "mimetype": "text/x-python",
   "name": "python",
   "nbconvert_exporter": "python",
   "pygments_lexer": "ipython3",
   "version": "3.10"
  },
  "vscode": {
   "interpreter": {
    "hash": "a1f82d0fd1be96d5c2cfc8b5b6d623de297a3323bdcee05967133f841892dc18"
   }
  }
 },
 "nbformat": 4,
 "nbformat_minor": 2
}
