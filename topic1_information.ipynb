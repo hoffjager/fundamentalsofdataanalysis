{
 "cells": [
  {
   "cell_type": "code",
   "execution_count": null,
   "metadata": {},
   "outputs": [],
   "source": [
    "# make http requests for resources on the Internet\n",
    "import urllib.request\n",
    "\n",
    "# URL for the book Alice in Wonderland\n",
    "alice = 'https://www.gutenberg.org/files/11/11-0.txt'\n",
    "\n",
    "# Retrieve the book\n",
    "classic = list(urllib.request.urlopen(alice))\n",
    "\n",
    "# Decode lines of text and strip endings\n",
    "classic = [line.decode('utf-8-sig').strip() for line in classic]\n",
    "\n",
    "# Retrieve a specified paragraph and print\n",
    "paragraph = ''.join(classic[58:63])\n",
    "print(paragraph)"
   ]
  },
  {
   "cell_type": "code",
   "execution_count": null,
   "metadata": {},
   "outputs": [],
   "source": [
    "# This code block will clean the paragraph\n",
    "# Lower case everything\n",
    "hatter = paragraph.lower()\n",
    "\n",
    "# All characters and a space included\n",
    "chars = 'abcdefghijklmnopqrstuvwxyz '\n",
    "\n",
    "# Strip anything that isn't a letter or a space\n",
    "hatter = ''.join([c for c in hatter if c in chars])\n",
    "print(hatter)"
   ]
  },
  {
   "cell_type": "code",
   "execution_count": null,
   "metadata": {},
   "outputs": [],
   "source": [
    "# This code block will generate a random sequence of letters via the random tool within Python\n",
    "import random\n",
    "print(random.choice(chars))\n",
    "\n",
    "# Retrieving the length of hatter excerpt\n",
    "N = len(hatter)\n",
    "\n",
    "# Generating N random characters from chars\n",
    "gen = random.choices(chars, k=N)\n",
    "# Joining characters together to form a string\n",
    "gen = ''.join(gen)\n",
    "print(gen)"
   ]
  },
  {
   "cell_type": "code",
   "execution_count": null,
   "metadata": {},
   "outputs": [],
   "source": [
    "# Retrieving the entire book Alice in Wonderland as one large lower-case string\n",
    "ebook = ''.join(book[26:].lower())\n",
    "\n",
    "# Creating weights: a weight will count the occurrences of each character throughout the entire book\n",
    "weights = [ebook.count(c) for c in chars]\n",
    "weights\n",
    "\n",
    "# Generating a string using the weights\n",
    "wgen = random.choices(chars, weights=weights, k=N)\n",
    "wgen = ''.join(wgen)\n",
    "print(wgen)"
   ]
  },
  {
   "cell_type": "code",
   "execution_count": null,
   "metadata": {},
   "outputs": [],
   "source": []
  }
 ],
 "metadata": {
  "language_info": {
   "name": "python"
  },
  "orig_nbformat": 4
 },
 "nbformat": 4,
 "nbformat_minor": 2
}
