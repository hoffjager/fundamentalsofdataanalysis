{
 "cells": [
  {
   "cell_type": "code",
   "execution_count": null,
   "metadata": {},
   "outputs": [],
   "source": [
    "# making http request for resources on the Internet\n",
    "import urllib.request\n",
    "\n",
    "# the URL for the book The Wizard of Oz\n",
    "alice_url = 'https://www.gutenberg.org/files/11/11-0.txt'\n",
    "\n",
    "# Retrieving the book (Oz)\n",
    "wonderland = list(urllib.request.urlopen(alice_url))\n",
    "\n",
    "# Decoding the lines and strip line endings\n",
    "wonderland = [line.decode('utf-8-sig').strip() for line in wonderland]\n",
    "\n",
    "# Retrieve a specified paragraph\n",
    "para = ''.join(wonderland[58:63])\n",
    "\n",
    "# Printing the paragraph\n",
    "print(para)"
   ]
  },
  {
   "cell_type": "code",
   "execution_count": null,
   "metadata": {},
   "outputs": [],
   "source": [
    "# This code block will clean the paragraph\n",
    "# Lower case everything\n",
    "madhatter = para.lower()\n",
    "\n",
    "# All characters and a space included\n",
    "chars = 'abcdefghijklmnopqrstuvwxyz '\n",
    "\n",
    "# Strip anything that isn't a letter or a space\n",
    "madhatter = ''.join([c for c in madhatter if c in chars])\n",
    "print(madhatter)"
   ]
  },
  {
   "cell_type": "code",
   "execution_count": null,
   "metadata": {},
   "outputs": [],
   "source": [
    "# This code block will generate a random sequence of letters via the random tool within Python\n",
    "import random\n",
    "print(random.choice(chars))\n",
    "\n",
    "# Retrieving the length of the madhatter excerpt\n",
    "N = len(madhatter)\n",
    "\n",
    "# Generating N random characters from chars\n",
    "gen = random.choices(chars, k = N)\n",
    "# Joining characters together to form a string\n",
    "gen = ''.join(gen)\n",
    "print(gen)"
   ]
  },
  {
   "cell_type": "code",
   "execution_count": null,
   "metadata": {},
   "outputs": [],
   "source": [
    "# Retrieving the entire book The Wizard of Oz as one large lower-case string\n",
    "entirebook = ''.join(wonderland[26:]).lower()\n",
    "\n",
    "# Creating weights: a weight will count the occurrences of each character throughout the entire book\n",
    "weights = [entirebook.count(c) for c in chars]\n",
    "weights\n",
    "\n",
    "# Generating a string using the weights and joining together\n",
    "wgen = random.choices(chars, weights = weights, k = N)\n",
    "wgen = ''.join(wgen)\n",
    "print(wgen)"
   ]
  },
  {
   "cell_type": "code",
   "execution_count": null,
   "metadata": {},
   "outputs": [],
   "source": [
    "# Creating weights which include the previous character\n",
    "twofer = {c: {d: entirebook.count(c + d) for d in chars} for c in chars}\n",
    "twofer"
   ]
  },
  {
   "cell_type": "code",
   "execution_count": null,
   "metadata": {},
   "outputs": [],
   "source": [
    "# Looping through the character set\n",
    "for i in range(len(chars)):\n",
    "    # Printing the character and how many times each appears in Alice in Wonderland\n",
    "    print(f'{chars[i]}:{weights[i]}')"
   ]
  },
  {
   "cell_type": "code",
   "execution_count": null,
   "metadata": {},
   "outputs": [],
   "source": [
    "# Starting with a space\n",
    "pairs = ' '\n",
    "\n",
    "# Conduct the following N-1 times\n",
    "for i in range(1, N):\n",
    "    # Getting the weights where the previous character is the last character in pairs\n",
    "    wt = twofer[pairs[-1]]\n",
    "    # Turning wt into a list that is ordered by chars\n",
    "    wt = [wt[c] for c in chars]\n",
    "    # Randomly choosing the next character using those weights\n",
    "    nextchar = random.choices(chars, weights=wt, k=1)[0]\n",
    "    # Appending the character into pairs\n",
    "    pairs = pairs + nextchar\n",
    "pairs"
   ]
  },
  {
   "cell_type": "code",
   "execution_count": null,
   "metadata": {},
   "outputs": [],
   "source": [
    "# Exercise 1: Adapt the code above to generate a\n",
    "# 1000 character long string with weights based on the\n",
    "# previous two characters\n",
    "\n",
    "# Starting with a space\n",
    "pairs = '  '\n",
    "\n",
    "# Conduct the following N-2 times\n",
    "for i in range(1, N):\n",
    "    # Getting the weights where the previous character is the last two characters in pairs\n",
    "    wt = twofer[pairs[-2]]\n",
    "    # Turning wt into a list that is ordered by chars\n",
    "    wt = [wt[c] for c in chars]\n",
    "    # Randomly choosing the next character using those weights\n",
    "    nextchar = random.choices(chars, weights=wt, k=2)[0]\n",
    "    # Appending the character into pairs\n",
    "    pairs = pairs + nextchar"
   ]
  },
  {
   "cell_type": "code",
   "execution_count": null,
   "metadata": {},
   "outputs": [],
   "source": [
    "pairs"
   ]
  },
  {
   "cell_type": "code",
   "execution_count": null,
   "metadata": {},
   "outputs": [],
   "source": [
    "# Entropy: if sending one bit of information with a probability of 1/2\n",
    "# importing Math functions\n",
    "import math\n",
    "print(-math.log(0.5,2))"
   ]
  },
  {
   "cell_type": "code",
   "execution_count": null,
   "metadata": {},
   "outputs": [],
   "source": [
    "# if 1 is received with a probability of 1/4:\n",
    "print(-math.log(0.25,2))\n",
    "# if 1 is received with a probability of 3/4:\n",
    "print(-math.log(0.75,2))"
   ]
  },
  {
   "cell_type": "code",
   "execution_count": null,
   "metadata": {},
   "outputs": [],
   "source": [
    "# if 1 is sent with probability of 3/4, followed by 0 sent with probability of 1/4, what's the overall information content?\n",
    "# Claude Shannon proposed calculating the average content for all messages sent\n",
    "p = [0.25, 0.75]\n",
    "-sum([p_i * math.log(p_i, 2) for p_i in p])"
   ]
  },
  {
   "cell_type": "code",
   "execution_count": null,
   "metadata": {},
   "outputs": [],
   "source": [
    "# import plotting & numerical capabilities\n",
    "import matplotlib.pyplot as plt\n",
    "import numpy as np\n",
    "\n",
    "# acquiring the range of p values\n",
    "p_of_1 = np.linspace(0.01, 0.99, 1000)\n",
    "entropy = -(p_of_1 * np.log2(p_of_1) + (1.0 - p_of_1) * np.log2(1.0 - p_of_1))\n",
    "\n",
    "# creating the plot and labelling the axes\n",
    "fig, ax = plt.subplots(figsize = (14, 6))\n",
    "ax.plot(p_of_1, entropy, color = 'blue')\n",
    "ax.set_xlabel('Probability the bit is 1 and not 0')\n",
    "ax.set_ylabel('Entropy')"
   ]
  },
  {
   "cell_type": "code",
   "execution_count": null,
   "metadata": {},
   "outputs": [],
   "source": [
    "# calculating the information content of a fire alarm\n",
    "mins_in_year = 365 * 24 * 60\n",
    "mins_in_year"
   ]
  },
  {
   "cell_type": "code",
   "execution_count": null,
   "metadata": {},
   "outputs": [],
   "source": [
    "# probability of the fire alarm activating\n",
    "p_alarm = 10/mins_in_year\n",
    "print(p_alarm)"
   ]
  },
  {
   "cell_type": "code",
   "execution_count": null,
   "metadata": {},
   "outputs": [],
   "source": [
    "# plugging data into formula below to calculate value of information content of alarm activating\n",
    "-math.log(p_alarm, 2)"
   ]
  },
  {
   "cell_type": "code",
   "execution_count": null,
   "metadata": {},
   "outputs": [],
   "source": [
    "# versus alarm silenced\n",
    "-math.log(1.0 - p_alarm, 2)"
   ]
  },
  {
   "cell_type": "code",
   "execution_count": null,
   "metadata": {},
   "outputs": [],
   "source": [
    "# Information regarding the fire alarm\n",
    "p = [p_alarm, 1.0 - p_alarm]\n",
    "entropy = -sum([p_i * math.log(p_i, 2) for p_i in p])\n",
    "print(f'{entropy} bits')"
   ]
  },
  {
   "cell_type": "code",
   "execution_count": null,
   "metadata": {},
   "outputs": [],
   "source": [
    "# Entropy of PIN Codes\n",
    "# PIN Codes are normally 4 digits\n",
    "-math.log(1.0/10000, 2)"
   ]
  },
  {
   "cell_type": "code",
   "execution_count": null,
   "metadata": {},
   "outputs": [],
   "source": [
    "# Entropy of a 4 digit PIN code\n",
    "p = [1.0/10000 for i in range(10000)]\n",
    "entropy = -sum([p_i * math.log(p_i, 2) for p_i in p])\n",
    "print(f'{entropy} bits')"
   ]
  },
  {
   "cell_type": "code",
   "execution_count": null,
   "metadata": {},
   "outputs": [],
   "source": [
    "# Entropy of a 6 digit PIN code\n",
    "p = [1.0/1000000 for i in range(1000000)]\n",
    "entropy = -sum([p_i * math.log(p_i, 2) for p_i in p])\n",
    "print(f'{entropy} bits')"
   ]
  },
  {
   "cell_type": "code",
   "execution_count": null,
   "metadata": {},
   "outputs": [],
   "source": [
    "# Exercise 2: Explain why the log of zero is undefined:\n",
    "\n",
    "# Log0 is deemed undefined by mathematicians, if you have a number to the power of another number, it is impossible to get a result of 0.\n",
    "# https://www.rapidtables.com/math/algebra/logarithm/Logarithm_of_0.html\n",
    "\n",
    "# When we can't find a number for x in the following formula:\n",
    "# logb(x), the base (b) to the power of x will equal 0\n",
    "# Therefore, Base (b) log of zero, ie, logb(0) is not defined"
   ]
  },
  {
   "cell_type": "code",
   "execution_count": null,
   "metadata": {},
   "outputs": [],
   "source": []
  }
 ],
 "metadata": {
  "kernelspec": {
   "display_name": "Python 3 (ipykernel)",
   "language": "python",
   "name": "python3"
  },
  "language_info": {
   "codemirror_mode": {
    "name": "ipython",
    "version": 3
   },
   "file_extension": ".py",
   "mimetype": "text/x-python",
   "name": "python",
   "nbconvert_exporter": "python",
   "pygments_lexer": "ipython3",
   "version": "3.9.13"
  }
 },
 "nbformat": 4,
 "nbformat_minor": 2
}
