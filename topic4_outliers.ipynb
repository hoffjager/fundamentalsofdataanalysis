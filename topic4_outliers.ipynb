{
 "cells": [
  {
   "cell_type": "code",
   "execution_count": null,
   "metadata": {},
   "outputs": [],
   "source": [
    "# importing numerical arrays\n",
    "import numpy as np\n",
    "# importing plotting capabilities\n",
    "import matplotlib.pyplot as plt\n",
    "# importing statistics\n",
    "import scipy.stats as ss"
   ]
  },
  {
   "cell_type": "code",
   "execution_count": null,
   "metadata": {},
   "outputs": [],
   "source": [
    "# Normal Distribution - Scaling\n",
    "# The number pi\n",
    "np.pi\n",
    "# The square root of 2\n",
    "np.sqrt(2)\n",
    "# Squaring the result\n",
    "1.4142135623730951**2"
   ]
  },
  {
   "cell_type": "code",
   "execution_count": null,
   "metadata": {},
   "outputs": [],
   "source": [
    "# called the scale in numpy\n",
    "sigma = 1.0\n",
    "sigma"
   ]
  },
  {
   "cell_type": "code",
   "execution_count": null,
   "metadata": {},
   "outputs": [],
   "source": [
    "# a number, close to 0.4\n",
    "1.0 / np.sqrt(2 * np.pi * sigma**2)"
   ]
  },
  {
   "cell_type": "code",
   "execution_count": null,
   "metadata": {},
   "outputs": [],
   "source": [
    "# various values of sigma for comparison\n",
    "sigma_vals = np.linspace(1.0, 10.0, 1000)\n",
    "# plot formula\n",
    "plt.plot(sigma_vals, 1.0 / np.sqrt(2 * np.pi * sigma_vals**2))"
   ]
  },
  {
   "cell_type": "code",
   "execution_count": null,
   "metadata": {},
   "outputs": [],
   "source": [
    "# Normal Distribution - the e part\n",
    "# a number like pi\n",
    "np.e"
   ]
  },
  {
   "cell_type": "code",
   "execution_count": null,
   "metadata": {},
   "outputs": [],
   "source": [
    "# range of x values for plotting\n",
    "x = np.linspace(-4.0, 4.0, 1000)\n",
    "# plot of e^x, built into numpy as np.exp\n",
    "plt.plot(x, np.exp(x))"
   ]
  },
  {
   "cell_type": "code",
   "execution_count": null,
   "metadata": {},
   "outputs": [],
   "source": [
    "# range of x values for plotting\n",
    "x = np.linspace(-4.0, 4.0, 1000)\n",
    "# e^-x\n",
    "plt.plot(x, np.exp(-(x**2 / 2)), label = r'$e^{-x}$')\n",
    "plt.legend()"
   ]
  },
  {
   "cell_type": "code",
   "execution_count": null,
   "metadata": {},
   "outputs": [],
   "source": [
    "# These are involved in the exponent\n",
    "# Fixing these values in subsequent plots\n",
    "mu, sigma = 0.0, 3.0\n",
    "# Range of x values\n",
    "x = np.linspace(-9.0, 9.0, 1000)\n",
    "# plotting full e part of normal pdf\n",
    "plt.plot(x, np.exp(-((x - mu)**2 / (2 * sigma**2))))"
   ]
  },
  {
   "cell_type": "code",
   "execution_count": null,
   "metadata": {},
   "outputs": [],
   "source": [
    "# changing values of mu\n",
    "# setting initial values\n",
    "mu, sigma = 0.0, 3.0\n",
    "# x values for plot\n",
    "x = np.linspace(-9.0, 9.0, 1000)\n",
    "# plotting the function for several different values of mu\n",
    "for mu in [-1.0, 0.0, 1.0, 2.0]:\n",
    "    plt.plot(x, np.exp(-((x - mu)**2 / (2 * sigma**2))), label = rf'$\\mu = {mu}$')\n",
    "plt.legend()"
   ]
  },
  {
   "cell_type": "code",
   "execution_count": null,
   "metadata": {},
   "outputs": [],
   "source": [
    "# changing values of mu\n",
    "# setting initial values\n",
    "mu, sigma = 0.0, 3.0\n",
    "# x values for plot\n",
    "x = np.linspace(-9.0, 9.0, 1000)\n",
    "# plotting the function for several different values of mu\n",
    "for sigma in [1.0, 2.0, 3.0]:\n",
    "    plt.plot(x, np.exp(-((x - mu)**2 / (2 * sigma**2))), label = rf'$\\mu = {mu}$')\n",
    "plt.legend()"
   ]
  },
  {
   "cell_type": "code",
   "execution_count": null,
   "metadata": {},
   "outputs": [],
   "source": [
    "# Normal Distribution - Pi and e together\n",
    "# setting values for mu and sigma\n",
    "mu, sigma = 0.0, 1.0\n",
    "# range of x values\n",
    "x = np.linspace(-3.0, 3.0, 1000)\n",
    "# first part with square root\n",
    "part1 = 1.0 / np.sqrt(2 * np.pi * sigma**2)\n",
    "# second part with e\n",
    "part2 = np.exp(-((x - mu)**2 / (2 * sigma**2)))\n",
    "# output is the product\n",
    "y = part1 * part2\n",
    "\n",
    "# plot x & y\n",
    "plt.plot(x, y, label = 'with')\n",
    "# show without scaling by the first part\n",
    "plt.plot(x, part2, label = 'without')\n",
    "\n",
    "plt.legend()"
   ]
  },
  {
   "cell_type": "code",
   "execution_count": null,
   "metadata": {},
   "outputs": [],
   "source": [
    "# changing values of sigma\n",
    "# Sigma occurs in both part 1 and part 2\n",
    "# Height of curve is also affected as a result\n",
    "\n",
    "# setting initial values of mu & sigma\n",
    "mu, sigma = 0.0, 1.0\n",
    "# range of x values\n",
    "x = np.linspace(-9.0, 9.0, 1000)\n",
    "# different values of sigma\n",
    "for sigma in [0.5, 1.0, 2.0, 4.5]:\n",
    "    # First part with square root\n",
    "    part1 = 1.0 / np.sqrt(2 * np.pi * sigma**2)\n",
    "    # Second part with e\n",
    "    part2 = np.exp(-((x - mu)**2 / (2 * sigma**2)))\n",
    "    # output is the product\n",
    "    y = part1 * part2\n",
    "    # plot x & y\n",
    "    plt.plot(x, y, label = '$\\sigma = {sigma}$')\n",
    "plt.legend()"
   ]
  },
  {
   "cell_type": "code",
   "execution_count": null,
   "metadata": {},
   "outputs": [],
   "source": [
    "# Percentiles\n",
    "# https://docs.scipy.org/doc/scipy/reference/generated/scipy.stats.norm.html\n",
    "\n",
    "# picking random values on the curve\n",
    "np.random.normal(0.0, 1.0)"
   ]
  },
  {
   "cell_type": "code",
   "execution_count": null,
   "metadata": {},
   "outputs": [],
   "source": [
    "# picking random values on the curve - max 10,000,000\n",
    "np.random.normal(0.0, 1.0, 10000000).max()"
   ]
  },
  {
   "cell_type": "code",
   "execution_count": null,
   "metadata": {},
   "outputs": [],
   "source": [
    "# x value at the 99th percentile\n",
    "# Meaning 99% of all randomly generated values will be below this\n",
    "ss.norm().ppf(0.99)"
   ]
  },
  {
   "cell_type": "code",
   "execution_count": null,
   "metadata": {},
   "outputs": [],
   "source": [
    "# The 50th percentile aka the mean value\n",
    "ss.norm().ppf(0.50)"
   ]
  },
  {
   "cell_type": "code",
   "execution_count": null,
   "metadata": {},
   "outputs": [],
   "source": [
    "# Percentile of 0.0 on x axis\n",
    "ss.norm().cdf(0.0)"
   ]
  },
  {
   "cell_type": "code",
   "execution_count": null,
   "metadata": {},
   "outputs": [],
   "source": [
    "# Probability of generating a value of less than 3.0 and greater than -3.0\n",
    "ss.norm().cdf(3.0) - ss.norm().cdf(-3.0)"
   ]
  },
  {
   "cell_type": "code",
   "execution_count": null,
   "metadata": {},
   "outputs": [],
   "source": [
    "# Six sigma where sigma = 1.0 and mu = 0.0\n",
    "ss.norm().cdf(6.0) - ss.norm().cdf(-6.0)"
   ]
  },
  {
   "cell_type": "code",
   "execution_count": null,
   "metadata": {},
   "outputs": [],
   "source": [
    "# Quartiles\n",
    "# Note the quartile is usually the range and not the point\n",
    "# 3rd quartile aka 75th percentile\n",
    "ss.norm().ppf(0.75)"
   ]
  },
  {
   "cell_type": "code",
   "execution_count": null,
   "metadata": {},
   "outputs": [],
   "source": [
    "# 2nd quartile aka 50th percentile\n",
    "ss.norm().ppf(0.5)"
   ]
  },
  {
   "cell_type": "code",
   "execution_count": null,
   "metadata": {},
   "outputs": [],
   "source": [
    "# 1st quartile aka 25th percentile\n",
    "ss.norm().ppf(0.25)"
   ]
  },
  {
   "cell_type": "code",
   "execution_count": null,
   "metadata": {},
   "outputs": [],
   "source": [
    "# Box Plots\n",
    "# Read in the morley data\n",
    "data = np.genfromtxt('data/morley.csv', skip_header=1, delimiter=',', deletechars='\"')\n",
    "# Removing the first column\n",
    "data = data[:,1:]"
   ]
  },
  {
   "cell_type": "code",
   "execution_count": null,
   "metadata": {},
   "outputs": [],
   "source": [
    "# selecting data for the first experiment\n",
    "exper_1 = data[:20, 2]\n",
    "exper_1"
   ]
  },
  {
   "cell_type": "code",
   "execution_count": null,
   "metadata": {},
   "outputs": [],
   "source": [
    "# selecting data for the second experiment\n",
    "exper_2 = data[20:40, 2]\n",
    "exper_2"
   ]
  },
  {
   "cell_type": "code",
   "execution_count": null,
   "metadata": {},
   "outputs": [],
   "source": [
    "# creating a box plot\n",
    "plt.boxplot(np.array([exper_1, exper_2]).T)"
   ]
  },
  {
   "cell_type": "code",
   "execution_count": null,
   "metadata": {},
   "outputs": [],
   "source": [
    "# a quick way to get the five experiments in different columns\n",
    "data[:,2].reshape(5, 20).T"
   ]
  },
  {
   "cell_type": "code",
   "execution_count": null,
   "metadata": {},
   "outputs": [],
   "source": [
    "# Inter-Quartile Range\n",
    "exper_1"
   ]
  },
  {
   "cell_type": "code",
   "execution_count": null,
   "metadata": {},
   "outputs": [],
   "source": [
    "# Creating a figure\n",
    "fig, ax = plt.subplots()\n",
    "# adding a box plot\n",
    "ax.boxplot(exper_1)\n",
    "# plotting red dots at (1, value) for each value in exper_1\n",
    "ax.plot(np.ones(exper_1.shape), exper_1, 'r.')"
   ]
  },
  {
   "cell_type": "code",
   "execution_count": null,
   "metadata": {},
   "outputs": [],
   "source": [
    "exper_1"
   ]
  },
  {
   "cell_type": "code",
   "execution_count": null,
   "metadata": {},
   "outputs": [],
   "source": [
    "# sorted values from the first experiment\n",
    "np.sort(exper_1)"
   ]
  },
  {
   "cell_type": "code",
   "execution_count": null,
   "metadata": {},
   "outputs": [],
   "source": [
    "# three ways to calculate the mean\n",
    "exper_1.mean(), np.mean(exper_1), sum(exper_1) / len(exper_1)"
   ]
  },
  {
   "cell_type": "code",
   "execution_count": null,
   "metadata": {},
   "outputs": [],
   "source": [
    "# median of exper_1\n",
    "np.median(exper_1)"
   ]
  },
  {
   "cell_type": "code",
   "execution_count": null,
   "metadata": {},
   "outputs": [],
   "source": [
    "# median is the 50th percentile\n",
    "np.percentile(exper_1, 50)"
   ]
  },
  {
   "cell_type": "code",
   "execution_count": null,
   "metadata": {},
   "outputs": [],
   "source": [
    "# upper quartile value\n",
    "q3 = np.percentile(exper_1, 75)\n",
    "q3"
   ]
  },
  {
   "cell_type": "code",
   "execution_count": null,
   "metadata": {},
   "outputs": [],
   "source": [
    "# median of the top half of values\n",
    "np.median(np.sort(exper_1)[10:])"
   ]
  },
  {
   "cell_type": "code",
   "execution_count": null,
   "metadata": {},
   "outputs": [],
   "source": [
    "# upper quartile value\n",
    "q1 = np.percentile(exper_1, 25)\n",
    "q1"
   ]
  },
  {
   "cell_type": "code",
   "execution_count": null,
   "metadata": {},
   "outputs": [],
   "source": [
    "# median of the bottom half of values\n",
    "np.median(np.sort(exper_1)[:10])"
   ]
  },
  {
   "cell_type": "code",
   "execution_count": null,
   "metadata": {},
   "outputs": [],
   "source": [
    "# inter-quartile range\n",
    "iqr = np.percentile(exper_1, 75) - np.percentile(exper_1, 25)\n",
    "iqr"
   ]
  },
  {
   "cell_type": "code",
   "execution_count": null,
   "metadata": {},
   "outputs": [],
   "source": [
    "# max upper whisker\n",
    "q3 + iqr"
   ]
  },
  {
   "cell_type": "code",
   "execution_count": null,
   "metadata": {},
   "outputs": [],
   "source": [
    "# min lower whisker\n",
    "q1 - iqr"
   ]
  },
  {
   "cell_type": "code",
   "execution_count": null,
   "metadata": {},
   "outputs": [],
   "source": [
    "# creating a figure\n",
    "fig, ax = plt.subplots()\n",
    "# adding the box plot\n",
    "ax.boxplot(exper_1)\n",
    "# plotting red dots at (1, value) for each value in exper_1\n",
    "ax.plot(np.ones(exper_1.shape), exper_1, 'r.')\n",
    "# adding the max whisker lengths\n",
    "ax.plot([1.0, 1.0], [q1 - iqr, q3 + iqr], 'bx')"
   ]
  },
  {
   "cell_type": "code",
   "execution_count": null,
   "metadata": {},
   "outputs": [],
   "source": [
    "# creating a figure\n",
    "fig, ax = plt.subplots()\n",
    "# adding the box plot\n",
    "ax.boxplot(exper_1)\n",
    "# plotting red dots at (1, value) for each value in exper_1\n",
    "ax.plot(np.ones(exper_1.shape), exper_1, 'r.')\n",
    "# adding the max whisker lengths\n",
    "ax.plot([1.0, 1.0], [q1 - iqr, q3 + iqr], 'bx')\n",
    "# plotting the mean\n",
    "ax.plot([1.0], [np.mean(exper_1)], 'go')"
   ]
  },
  {
   "cell_type": "code",
   "execution_count": null,
   "metadata": {},
   "outputs": [],
   "source": [
    "# values above the mean\n",
    "exper_1[exper_1 > exper_1.mean()]"
   ]
  },
  {
   "cell_type": "code",
   "execution_count": null,
   "metadata": {},
   "outputs": [],
   "source": [
    "# values below the mean\n",
    "exper_1[exper_1 < exper_1.mean()]"
   ]
  },
  {
   "cell_type": "code",
   "execution_count": null,
   "metadata": {},
   "outputs": [],
   "source": [
    "# Exercise 1\n",
    "# Create box plots on a single set of axes for all 5 experiments in the Morley data set\n",
    "# Research TBC"
   ]
  },
  {
   "cell_type": "code",
   "execution_count": null,
   "metadata": {},
   "outputs": [],
   "source": [
    "# Exercise 2\n",
    "# Create box plots for all of the numerical variables in Fisher's Iris data set"
   ]
  },
  {
   "cell_type": "code",
   "execution_count": null,
   "metadata": {},
   "outputs": [],
   "source": [
    "# Data Set\n",
    "# Creating a series of x vectors\n",
    "xs = np.array([np.linspace(i, i + 2.0, 20) for i in range(10)])"
   ]
  },
  {
   "cell_type": "code",
   "execution_count": null,
   "metadata": {},
   "outputs": [],
   "source": [
    "# creating a corresponding series of y vectors\n",
    "ys = np.array([-1.0 * xs[i] + 2 * i for i in range(len(xs))])\n",
    "# adding noise\n",
    "ys = ys + np.random.normal(0.0, 1.0, ys.shape)"
   ]
  },
  {
   "cell_type": "code",
   "execution_count": null,
   "metadata": {},
   "outputs": [],
   "source": [
    "# creating global list of x & y values\n",
    "x = xs.flatten()\n",
    "y = ys.flatten()"
   ]
  },
  {
   "cell_type": "code",
   "execution_count": null,
   "metadata": {},
   "outputs": [],
   "source": [
    "# plot\n",
    "plt.plot(x, y, '.')\n",
    "# points appear to go bottom left to top right"
   ]
  },
  {
   "cell_type": "code",
   "execution_count": null,
   "metadata": {},
   "outputs": [],
   "source": [
    "# Best Fit Line\n",
    "# y = mx + c\n",
    "\n",
    "# Best Fit Line slope and y intercept\n",
    "m, c = np.polyfit(x, y, 1)"
   ]
  },
  {
   "cell_type": "code",
   "execution_count": null,
   "metadata": {},
   "outputs": [],
   "source": [
    "# creating a steadily increasing x range for plotting\n",
    "xbestfit = np.linspace(x.min(), x.max(), 1000)\n",
    "# creating corresponding y range\n",
    "ybestfit = m * xbestfit + c"
   ]
  },
  {
   "cell_type": "code",
   "execution_count": null,
   "metadata": {},
   "outputs": [],
   "source": [
    "# plot points\n",
    "plt.plot(x, y, '.')\n",
    "# plot line\n",
    "plt.plot(xbestfit, ybestfit)"
   ]
  },
  {
   "cell_type": "code",
   "execution_count": null,
   "metadata": {},
   "outputs": [],
   "source": [
    "# Colours\n",
    "# Plot the same points, but now with a different colour for each range.\n",
    "for i in range(len(xs)):\n",
    "    plt.plot(xs[i], ys[i], '.')"
   ]
  },
  {
   "cell_type": "code",
   "execution_count": null,
   "metadata": {},
   "outputs": [],
   "source": [
    "# Same plot as above but with best fit lines included\n",
    "for i in range(len(xs)):\n",
    "    plt.plot(xs[i], ys[i], '.')\n",
    "    m, c = np.polyfit(xs[i], ys[i], 1)\n",
    "    xbestfit = np.linspace(xs[i].min(), xs[i].max(), 50)\n",
    "    ybestfit = m * xbestfit + c\n",
    "    plt.plot(xbestfit, ybestfit, color = 'lightgrey')\n",
    "# Refer to Simpson's Paradox"
   ]
  },
  {
   "cell_type": "code",
   "execution_count": null,
   "metadata": {},
   "outputs": [],
   "source": [
    "# Exercise 3\n",
    "# Adapt the above code and plots so that the overall plot is inversely proportional and the individual groups are directly proportional\n",
    "# Research TBC"
   ]
  }
 ],
 "metadata": {
  "language_info": {
   "name": "python"
  },
  "orig_nbformat": 4
 },
 "nbformat": 4,
 "nbformat_minor": 2
}
