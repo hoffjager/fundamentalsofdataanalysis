{
 "cells": [
  {
   "cell_type": "code",
   "execution_count": null,
   "metadata": {},
   "outputs": [],
   "source": []
  },
  {
   "cell_type": "markdown",
   "metadata": {},
   "source": [
    "Normal Distribution  \n",
    "Scaling"
   ]
  },
  {
   "cell_type": "code",
   "execution_count": null,
   "metadata": {},
   "outputs": [],
   "source": [
    "import numpy as np\n",
    "\n",
    "# The number pi\n",
    "np.pi\n",
    "\n",
    "# The square root of 2\n",
    "np.sqrt(2)\n",
    "\n",
    "# Squaring the result (**2)\n",
    "1.4142135623730951**2"
   ]
  },
  {
   "cell_type": "code",
   "execution_count": null,
   "metadata": {},
   "outputs": [],
   "source": [
    "# called the scale in numpy\n",
    "sigma = 1.0\n",
    "sigma"
   ]
  },
  {
   "cell_type": "code",
   "execution_count": null,
   "metadata": {},
   "outputs": [],
   "source": [
    "# a number, close to 0.4\n",
    "1.0 / np.sqrt(2 * np.pi * sigma**2)"
   ]
  },
  {
   "cell_type": "code",
   "execution_count": null,
   "metadata": {},
   "outputs": [],
   "source": [
    "import matplotlib.pyplot as plt\n",
    "\n",
    "# various values of sigma for comparison\n",
    "sigma_vals = np.linspace(1.0, 10.0, 1000)\n",
    "\n",
    "# plot formula\n",
    "plt.plot(sigma_vals, 1.0 / np.sqrt(2 * np.pi * sigma_vals**2))"
   ]
  },
  {
   "cell_type": "markdown",
   "metadata": {},
   "source": [
    "Exponent (e)"
   ]
  },
  {
   "cell_type": "code",
   "execution_count": null,
   "metadata": {},
   "outputs": [],
   "source": [
    "# a number like pi\n",
    "np.e"
   ]
  },
  {
   "cell_type": "code",
   "execution_count": null,
   "metadata": {},
   "outputs": [],
   "source": [
    "# range of x values for plotting\n",
    "x = np.linspace(-4.0, 4.0, 1000)\n",
    "\n",
    "# plot of e^x, built into numpy as np.exp\n",
    "plt.plot(x, np.exp(x))"
   ]
  },
  {
   "cell_type": "code",
   "execution_count": null,
   "metadata": {},
   "outputs": [],
   "source": [
    "# range of x values for plotting\n",
    "x = np.linspace(-4.0, 4.0, 1000)\n",
    "\n",
    "# e^-x\n",
    "plt.plot(x, np.exp(-(x**2 / 2)), label = r'$e^{-x}$')\n",
    "plt.legend()"
   ]
  },
  {
   "cell_type": "markdown",
   "metadata": {},
   "source": [
    "Mu and Sigma are involved in the exponent."
   ]
  },
  {
   "cell_type": "code",
   "execution_count": null,
   "metadata": {},
   "outputs": [],
   "source": [
    "# Fixing these values in subsequent plots\n",
    "mu, sigma = 0.0, 3.0\n",
    "\n",
    "# Range of x values\n",
    "x = np.linspace(-9.0, 9.0, 1000)\n",
    "\n",
    "# plotting full exp of normal probability density function (pdf)\n",
    "plt.plot(x, np.exp(-((x - mu)**2 / (2 * sigma**2))))"
   ]
  },
  {
   "cell_type": "markdown",
   "metadata": {},
   "source": [
    "Changing the values of Mu"
   ]
  },
  {
   "cell_type": "code",
   "execution_count": null,
   "metadata": {},
   "outputs": [],
   "source": [
    "# setting initial values for mu and sigma\n",
    "mu, sigma = 0.0, 3.0\n",
    "\n",
    "# x values for plot\n",
    "x = np.linspace(-9.0, 9.0, 1000)\n",
    "\n",
    "# plotting the function for several different values of mu\n",
    "for mu in [-1.0, 0.0, 1.0, 2.0]:\n",
    "    plt.plot(x, np.exp(-((x - mu)**2 / (2 * sigma**2))), label = rf'$\\mu = {mu}$')\n",
    "plt.legend()"
   ]
  },
  {
   "cell_type": "code",
   "execution_count": null,
   "metadata": {},
   "outputs": [],
   "source": [
    "# setting initial values for mu and sigma\n",
    "mu, sigma = 0.0, 3.0\n",
    "\n",
    "# x values for plot\n",
    "x = np.linspace(-9.0, 9.0, 1000)\n",
    "\n",
    "# plotting the function for several different values of sigma\n",
    "for sigma in [1.0, 2.0, 3.0]:\n",
    "    plt.plot(x, np.exp(-((x - mu)**2 / (2 * sigma**2))), label = rf'$\\mu = {mu}$')\n",
    "plt.legend()"
   ]
  },
  {
   "cell_type": "markdown",
   "metadata": {},
   "source": [
    "Pi and Exponent together"
   ]
  },
  {
   "cell_type": "code",
   "execution_count": null,
   "metadata": {},
   "outputs": [],
   "source": [
    "# setting values for mu and sigma\n",
    "mu, sigma = 0.0, 1.0\n",
    "\n",
    "# range of x values\n",
    "x = np.linspace(-3.0, 3.0, 1000)\n",
    "\n",
    "# first part with square root\n",
    "part1 = 1.0 / np.sqrt(2 * np.pi * sigma**2)\n",
    "\n",
    "# second part with exponent\n",
    "part2 = np.exp(-((x - mu)**2 / (2 * sigma**2)))\n",
    "\n",
    "# output is the product\n",
    "y = part1 * part2\n",
    "\n",
    "# plot x & y\n",
    "plt.plot(x, y, label = 'with')\n",
    "\n",
    "# show without scaling by the first part\n",
    "plt.plot(x, part2, label = 'without')\n",
    "\n",
    "plt.legend()"
   ]
  },
  {
   "cell_type": "markdown",
   "metadata": {},
   "source": [
    "Changing Values of Sigma  \n",
    "Sigma occurs in both Part 1 and Part 2, the height of the curve is affected as a result."
   ]
  },
  {
   "cell_type": "code",
   "execution_count": null,
   "metadata": {},
   "outputs": [],
   "source": [
    "# setting initial values of mu & sigma\n",
    "mu, sigma = 0.0, 1.0\n",
    "\n",
    "# range of x values\n",
    "x = np.linspace(-9.0, 9.0, 1000)\n",
    "\n",
    "# different values of sigma\n",
    "for sigma in [0.5, 1.0, 2.0, 4.5]:\n",
    "    # First part with square root\n",
    "    part1 = 1.0 / np.sqrt(2 * np.pi * sigma**2)\n",
    "    # Second part with e\n",
    "    part2 = np.exp(-((x - mu)**2 / (2 * sigma**2)))\n",
    "    # output is the product\n",
    "    y = part1 * part2\n",
    "    # plot x & y\n",
    "    plt.plot(x, y, label = '$\\sigma = {sigma}$')\n",
    "plt.legend()"
   ]
  },
  {
   "cell_type": "markdown",
   "metadata": {},
   "source": [
    "Percentiles  \n",
    "https://docs.scipy.org/doc/scipy/reference/generated/scipy.stats.norm.html"
   ]
  },
  {
   "cell_type": "markdown",
   "metadata": {},
   "source": [
    "Picking random values on the curve:"
   ]
  },
  {
   "cell_type": "code",
   "execution_count": null,
   "metadata": {},
   "outputs": [],
   "source": [
    "np.random.normal(0.0, 1.0)"
   ]
  },
  {
   "cell_type": "markdown",
   "metadata": {},
   "source": [
    "Picking random values on the curve where max = 10,000,000"
   ]
  },
  {
   "cell_type": "code",
   "execution_count": null,
   "metadata": {},
   "outputs": [],
   "source": [
    "np.random.normal(0.0, 1.0, 10000000).max()"
   ]
  },
  {
   "cell_type": "markdown",
   "metadata": {},
   "source": [
    "X value at the 99th percentile:  \n",
    "This means 99% of randomly generated values will be below this"
   ]
  },
  {
   "cell_type": "code",
   "execution_count": null,
   "metadata": {},
   "outputs": [],
   "source": [
    "import scipy.stats as ss\n",
    "\n",
    "ss.norm().ppf(0.99)"
   ]
  },
  {
   "cell_type": "markdown",
   "metadata": {},
   "source": [
    "The 50th percentile (the mean)"
   ]
  },
  {
   "cell_type": "code",
   "execution_count": null,
   "metadata": {},
   "outputs": [],
   "source": [
    "ss.norm().ppf(0.50)"
   ]
  },
  {
   "cell_type": "markdown",
   "metadata": {},
   "source": [
    "The percentile of 0.0 on the x-axis"
   ]
  },
  {
   "cell_type": "code",
   "execution_count": null,
   "metadata": {},
   "outputs": [],
   "source": [
    "ss.norm().cdf(0.0)"
   ]
  },
  {
   "cell_type": "markdown",
   "metadata": {},
   "source": [
    "The probability of generating a value less than 3.0 and greater than -3.0:\n"
   ]
  },
  {
   "cell_type": "code",
   "execution_count": null,
   "metadata": {},
   "outputs": [],
   "source": [
    "ss.norm().cdf(3.0) - ss.norm().cdf(-3.0)"
   ]
  },
  {
   "cell_type": "markdown",
   "metadata": {},
   "source": [
    "Six Sigma where Sigma = 1.0 and Mu = 0.0"
   ]
  },
  {
   "cell_type": "code",
   "execution_count": null,
   "metadata": {},
   "outputs": [],
   "source": [
    "ss.norm().cdf(6.0) - ss.norm().cdf(-6.0)"
   ]
  },
  {
   "cell_type": "markdown",
   "metadata": {},
   "source": [
    "Quartiles:  \n",
    "The quartile is usually the range and not the point.  \n",
    "\n",
    "3rd quartile aka 75th percentile:"
   ]
  },
  {
   "cell_type": "code",
   "execution_count": null,
   "metadata": {},
   "outputs": [],
   "source": [
    "ss.norm().ppf(0.75)"
   ]
  },
  {
   "cell_type": "markdown",
   "metadata": {},
   "source": [
    "2nd quartile aka 50th percentile:"
   ]
  },
  {
   "cell_type": "code",
   "execution_count": null,
   "metadata": {},
   "outputs": [],
   "source": [
    "ss.norm().ppf(0.5)"
   ]
  },
  {
   "cell_type": "markdown",
   "metadata": {},
   "source": [
    "1st quartile aka 25th percentile:"
   ]
  },
  {
   "cell_type": "code",
   "execution_count": null,
   "metadata": {},
   "outputs": [],
   "source": [
    "ss.norm().ppf(0.25)"
   ]
  },
  {
   "cell_type": "markdown",
   "metadata": {},
   "source": [
    "Box Plots"
   ]
  },
  {
   "cell_type": "code",
   "execution_count": null,
   "metadata": {},
   "outputs": [],
   "source": [
    "import numpy as np\n",
    "\n",
    "# Read in the morley data\n",
    "data = np.genfromtxt('../input/michelson-speed-of-light-data/morley.csv', skip_header=1, delimiter=',', deletechars='\"')\n",
    "\n",
    "# Removing the first column\n",
    "data = data[:,1:]"
   ]
  },
  {
   "cell_type": "code",
   "execution_count": null,
   "metadata": {},
   "outputs": [],
   "source": [
    "# selecting data for the first experiment\n",
    "exper_1 = data[:20, 2]\n",
    "exper_1"
   ]
  },
  {
   "cell_type": "code",
   "execution_count": null,
   "metadata": {},
   "outputs": [],
   "source": [
    "# selecting data for the second experiment\n",
    "exper_2 = data[20:40, 2]\n",
    "exper_2"
   ]
  },
  {
   "cell_type": "code",
   "execution_count": null,
   "metadata": {},
   "outputs": [],
   "source": [
    "# creating a box plot for both experiments\n",
    "plt.boxplot(np.array([exper_1, exper_2]).T)"
   ]
  },
  {
   "cell_type": "code",
   "execution_count": null,
   "metadata": {},
   "outputs": [],
   "source": [
    "# a quick way to get the five experiments in different columns\n",
    "data[:,2].reshape(5, 20).T"
   ]
  },
  {
   "cell_type": "markdown",
   "metadata": {},
   "source": [
    "Inter-Quartile Range"
   ]
  },
  {
   "cell_type": "code",
   "execution_count": null,
   "metadata": {},
   "outputs": [],
   "source": [
    "exper_1"
   ]
  },
  {
   "cell_type": "code",
   "execution_count": null,
   "metadata": {},
   "outputs": [],
   "source": [
    "# Creating a figure\n",
    "fig, ax = plt.subplots()\n",
    "\n",
    "# adding a box plot\n",
    "ax.boxplot(exper_1)\n",
    "\n",
    "# plotting red dots at (1, value) for each value in exper_1\n",
    "ax.plot(np.ones(exper_1.shape), exper_1, 'r.')"
   ]
  },
  {
   "cell_type": "code",
   "execution_count": null,
   "metadata": {},
   "outputs": [],
   "source": [
    "exper_1"
   ]
  },
  {
   "cell_type": "markdown",
   "metadata": {},
   "source": [
    "Sorted values from the first experiment:"
   ]
  },
  {
   "cell_type": "code",
   "execution_count": null,
   "metadata": {},
   "outputs": [],
   "source": [
    "np.sort(exper_1)"
   ]
  },
  {
   "cell_type": "markdown",
   "metadata": {},
   "source": [
    "Three ways to calculate the mean:"
   ]
  },
  {
   "cell_type": "code",
   "execution_count": null,
   "metadata": {},
   "outputs": [],
   "source": [
    "exper_1.mean(), np.mean(exper_1), sum(exper_1) / len(exper_1)"
   ]
  },
  {
   "cell_type": "markdown",
   "metadata": {},
   "source": [
    "Median of the first experiment:"
   ]
  },
  {
   "cell_type": "code",
   "execution_count": null,
   "metadata": {},
   "outputs": [],
   "source": [
    "np.median(exper_1)"
   ]
  },
  {
   "cell_type": "markdown",
   "metadata": {},
   "source": [
    "Median (50th percentile) of the first experiment:"
   ]
  },
  {
   "cell_type": "code",
   "execution_count": null,
   "metadata": {},
   "outputs": [],
   "source": [
    "np.percentile(exper_1, 50)"
   ]
  },
  {
   "cell_type": "markdown",
   "metadata": {},
   "source": [
    "Upper Quartile Value of the first experiment:"
   ]
  },
  {
   "cell_type": "code",
   "execution_count": null,
   "metadata": {},
   "outputs": [],
   "source": [
    "q3 = np.percentile(exper_1, 75)\n",
    "q3"
   ]
  },
  {
   "cell_type": "markdown",
   "metadata": {},
   "source": [
    "Median of the top half of values of the first experiment:"
   ]
  },
  {
   "cell_type": "code",
   "execution_count": null,
   "metadata": {},
   "outputs": [],
   "source": [
    "np.median(np.sort(exper_1)[10:])"
   ]
  },
  {
   "cell_type": "markdown",
   "metadata": {},
   "source": [
    "Lower Quartile Value of the first experiment:"
   ]
  },
  {
   "cell_type": "code",
   "execution_count": null,
   "metadata": {},
   "outputs": [],
   "source": [
    "q1 = np.percentile(exper_1, 25)\n",
    "q1"
   ]
  },
  {
   "cell_type": "markdown",
   "metadata": {},
   "source": [
    "Median of the bottom half of values of the first experiment:"
   ]
  },
  {
   "cell_type": "code",
   "execution_count": null,
   "metadata": {},
   "outputs": [],
   "source": [
    "np.median(np.sort(exper_1)[:10])"
   ]
  },
  {
   "cell_type": "markdown",
   "metadata": {},
   "source": [
    "Inter-Quartile range of both Upper Quartile & Lower Quartile Values\n"
   ]
  },
  {
   "cell_type": "code",
   "execution_count": null,
   "metadata": {},
   "outputs": [],
   "source": [
    "iqr = np.percentile(exper_1, 75) - np.percentile(exper_1, 25)\n",
    "iqr"
   ]
  },
  {
   "cell_type": "markdown",
   "metadata": {},
   "source": [
    "Max Upper Whisker & Min Lower Whisker"
   ]
  },
  {
   "cell_type": "code",
   "execution_count": null,
   "metadata": {},
   "outputs": [],
   "source": [
    "q3 + iqr"
   ]
  },
  {
   "cell_type": "code",
   "execution_count": null,
   "metadata": {},
   "outputs": [],
   "source": [
    "q1 - iqr"
   ]
  },
  {
   "cell_type": "code",
   "execution_count": null,
   "metadata": {},
   "outputs": [],
   "source": [
    "# creating a figure\n",
    "fig, ax = plt.subplots()\n",
    "\n",
    "# adding the box plot\n",
    "ax.boxplot(exper_1)\n",
    "\n",
    "# plotting red dots at (1, value) for each value in exper_1\n",
    "ax.plot(np.ones(exper_1.shape), exper_1, 'r.')\n",
    "\n",
    "# adding the max whisker lengths\n",
    "ax.plot([1.0, 1.0], [q1 - iqr, q3 + iqr], 'bx')\n",
    "\n",
    "# plotting the mean\n",
    "ax.plot([1.0], [np.mean(exper_1)], 'go')"
   ]
  },
  {
   "cell_type": "markdown",
   "metadata": {},
   "source": [
    "Values above the mean and below the mean:"
   ]
  },
  {
   "cell_type": "code",
   "execution_count": null,
   "metadata": {},
   "outputs": [],
   "source": [
    "exper_1[exper_1 > exper_1.mean()]"
   ]
  },
  {
   "cell_type": "code",
   "execution_count": null,
   "metadata": {},
   "outputs": [],
   "source": [
    "exper_1[exper_1 < exper_1.mean()]"
   ]
  },
  {
   "cell_type": "markdown",
   "metadata": {},
   "source": [
    "Exercise 1:  \n",
    "Create box plots on a single set of axes for all 5 experiments in the Morley data set:"
   ]
  },
  {
   "cell_type": "markdown",
   "metadata": {},
   "source": [
    "References:  \n",
    "https://rpubs.com/eilersj1/249581  \n",
    "https://www.kaggle.com/code/ukveteran/pystarter-jma-morley  \n",
    "https://www.analyticsvidhya.com/blog/2021/08/python-tutorial-working-with-csv-file-for-data-science/  \n",
    "https://cmdlinetips.com/2019/04/how-to-specify-colors-to-scatter-plots-in-python/  \n",
    "https://www.khanacademy.org/math/statistics-probability/summarizing-quantitative-data/box-whisker-plots/a/box-plot-review  \n",
    "\n",
    "In 1876, the scientist Edward Morley ran several experiments to analyse and quantify the speed of light.  \n",
    "\n",
    "Morley compiled data from 5 experiments with each containing 20 trials.  \n",
    "The data points were recorded and measured in km per second, followed by subtracting measurements by 299000 km/s to make data easier to work with.  \n",
    "\n",
    "For this exercise, we want to create a box plot using the Morley data set, extracting a data summary consisting of:  \n",
    "  \n",
    "The minimum  \n",
    "The 1st quartile (25%)  \n",
    "The median (50%)  \n",
    "The 3rd quartile (75%)\n",
    "The maximum"
   ]
  },
  {
   "cell_type": "code",
   "execution_count": null,
   "metadata": {},
   "outputs": [],
   "source": [
    "# importing data frames, URL requesting, numbering and plotting modules\n",
    "import pandas as pd\n",
    "import csv\n",
    "import seaborn as sns\n",
    "\n",
    "# opening the Morley data set csv file\n",
    "df1 = pd.read_csv('../fundamentalsofdataanalysis/morley_dataset.csv', delimiter = ',', nrows = None)\n",
    "df1.dataframeName = 'morley_dataset.csv'\n",
    "\n",
    "# reading and outputting the total amount of data via shaping\n",
    "nRow, nCol = df1.shape\n",
    "print(f'There are {nRow} rows and {nCol} columns of experimental data in the Morley data set.')"
   ]
  },
  {
   "cell_type": "code",
   "execution_count": null,
   "metadata": {},
   "outputs": [],
   "source": [
    "df1.head(5)"
   ]
  },
  {
   "cell_type": "code",
   "execution_count": null,
   "metadata": {},
   "outputs": [],
   "source": []
  },
  {
   "cell_type": "code",
   "execution_count": 57,
   "metadata": {},
   "outputs": [
    {
     "data": {
      "image/png": "[encoded data removed]",
      "text/plain": [
       "<Figure size 640x480 with 1 Axes>"
      ]
     },
     "metadata": {},
     "output_type": "display_data"
    }
   ],
   "source": [
    "# plotting scatterplot with a legend for all 5 experiments\n",
    "ax = sns.scatterplot(x = \"Run\", y = \"Speed\", hue = \"Expt\", data = df1, palette = ['green', 'orange', 'blue', 'black', 'red'], legend = 'full')"
   ]
  },
  {
   "cell_type": "code",
   "execution_count": null,
   "metadata": {},
   "outputs": [],
   "source": [
    "# plotting a series of plots with the Morley data set\n",
    "sns.pairplot(df1)"
   ]
  },
  {
   "cell_type": "markdown",
   "metadata": {},
   "source": [
    "Exercise 2:  \n",
    "Create box plots for all of the numerical variables in Fisher's Iris data set:"
   ]
  },
  {
   "cell_type": "code",
   "execution_count": null,
   "metadata": {},
   "outputs": [],
   "source": [
    "# Research TBC\n",
    "# Reference: https://towardsdatascience.com/create-and-customize-boxplots-with-pythons-matplotlib-to-get-lots-of-insights-from-your-data-d561c9883643"
   ]
  },
  {
   "cell_type": "markdown",
   "metadata": {},
   "source": [
    "Data Set:"
   ]
  },
  {
   "cell_type": "code",
   "execution_count": null,
   "metadata": {},
   "outputs": [],
   "source": [
    "# Creating a series of x vectors\n",
    "xs = np.array([np.linspace(i, i + 2.0, 20) for i in range(10)])"
   ]
  },
  {
   "cell_type": "code",
   "execution_count": null,
   "metadata": {},
   "outputs": [],
   "source": [
    "# creating a corresponding series of y vectors\n",
    "ys = np.array([-1.0 * xs[i] + 2 * i for i in range(len(xs))])\n",
    "\n",
    "# adding noise\n",
    "ys = ys + np.random.normal(0.0, 1.0, ys.shape)"
   ]
  },
  {
   "cell_type": "code",
   "execution_count": null,
   "metadata": {},
   "outputs": [],
   "source": [
    "# creating global list of x & y values\n",
    "x = xs.flatten()\n",
    "y = ys.flatten()"
   ]
  },
  {
   "cell_type": "code",
   "execution_count": null,
   "metadata": {},
   "outputs": [],
   "source": [
    "# plotting the x & y values\n",
    "plt.plot(x, y, '.')"
   ]
  },
  {
   "cell_type": "markdown",
   "metadata": {},
   "source": [
    "The points appear to go from bottom left to top right."
   ]
  },
  {
   "cell_type": "markdown",
   "metadata": {},
   "source": [
    "Best Fit Line:  \n",
    "y = mx + c"
   ]
  },
  {
   "cell_type": "code",
   "execution_count": null,
   "metadata": {},
   "outputs": [],
   "source": [
    "# Slope(m) and y intercept(c)\n",
    "m, c = np.polyfit(x, y, 1)"
   ]
  },
  {
   "cell_type": "code",
   "execution_count": null,
   "metadata": {},
   "outputs": [],
   "source": [
    "# creating a steadily increasing x range for plotting\n",
    "xbestfit = np.linspace(x.min(), x.max(), 1000)\n",
    "\n",
    "# creating corresponding y range\n",
    "ybestfit = m * xbestfit + c"
   ]
  },
  {
   "cell_type": "code",
   "execution_count": null,
   "metadata": {},
   "outputs": [],
   "source": [
    "# plotting points\n",
    "plt.plot(x, y, '.')\n",
    "# plotting best fit line\n",
    "plt.plot(xbestfit, ybestfit)"
   ]
  },
  {
   "cell_type": "markdown",
   "metadata": {},
   "source": [
    "Colours  \n",
    "Plotting the same points but now with a different colour for each range:"
   ]
  },
  {
   "cell_type": "code",
   "execution_count": null,
   "metadata": {},
   "outputs": [],
   "source": [
    "for i in range(len(xs)):\n",
    "    plt.plot(xs[i], ys[i], '.')"
   ]
  },
  {
   "cell_type": "code",
   "execution_count": null,
   "metadata": {},
   "outputs": [],
   "source": [
    "# Same plot as above but with best fit lines included:\n",
    "for i in range(len(xs)):\n",
    "    plt.plot(xs[i], ys[i], '.')\n",
    "    m, c = np.polyfit(xs[i], ys[i], 1)\n",
    "    xbestfit = np.linspace(xs[i].min(), xs[i].max(), 50)\n",
    "    ybestfit = m * xbestfit + c\n",
    "    plt.plot(xbestfit, ybestfit, color = 'lightgrey')\n",
    "# Refer to Simpson's Paradox for more information"
   ]
  },
  {
   "cell_type": "markdown",
   "metadata": {},
   "source": [
    "Exercise 3:  \n",
    "Adapt the above code and plots so that the overall plot is inversely proportional, and the individual groups are directly proportional.\n"
   ]
  },
  {
   "cell_type": "code",
   "execution_count": null,
   "metadata": {},
   "outputs": [],
   "source": [
    "# Research TBC"
   ]
  }
 ],
 "metadata": {
  "kernelspec": {
   "display_name": "Python 3 (ipykernel)",
   "language": "python",
   "name": "python3"
  },
  "language_info": {
   "codemirror_mode": {
    "name": "ipython",
    "version": 3
   },
   "file_extension": ".py",
   "mimetype": "text/x-python",
   "name": "python",
   "nbconvert_exporter": "python",
   "pygments_lexer": "ipython3",
   "version": "3.9.13"
  },
  "vscode": {
   "interpreter": {
    "hash": "a1f82d0fd1be96d5c2cfc8b5b6d623de297a3323bdcee05967133f841892dc18"
   }
  }
 },
 "nbformat": 4,
 "nbformat_minor": 2
}
