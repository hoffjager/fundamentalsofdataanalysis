{
 "cells": [
  {
   "cell_type": "markdown",
   "metadata": {},
   "source": [
    "This Jupyter notebook is to explain the normal distribution in Mathematics & Statistics.  \n",
    "The normal distribution (also known as the Gaussian distribution) is an important tool that is used to show probability distribution for randomly generated variables in a data set.  \n",
    "A normal distribution is symmetrical about the mean (average) value of the random data set, meaning data near to the mean value occur more frequently.  \n",
    "The plot of the normal distribution shows the data as a bell curve."
   ]
  },
  {
   "cell_type": "code",
   "execution_count": null,
   "metadata": {},
   "outputs": [],
   "source": [
    "# importing NumPy to access numerical arrays\n",
    "import numpy as np\n",
    "# importing MatPlotLib to create histograms\n",
    "import matplotlib.pyplot as plt\n",
    "# importing Scipy Stats to utilise statistical functions\n",
    "import scipy.stats as stats\n",
    "\n",
    "# Creating a new, seeded random number generator\n",
    "rng = np.random.default_rng(0)\n",
    "# Generating 1,000,000 numbers on a standard normal distribution\n",
    "samples = rng.standard_normal(1000000)\n",
    "\n",
    "# Creating a figure\n",
    "fig, ax = plt.subplots()\n",
    "# Creating a histogram with the above random data\n",
    "ax.hist(samples, bins = 100)"
   ]
  },
  {
   "cell_type": "markdown",
   "metadata": {},
   "source": [
    "As previously mentioned, the majority of randomly generated variables occur around the mean, and this means the probability of variables further from the mean are more scarce and go equally in both directions.  \n",
    "This is how values within a variable are distributed as the name would suggest, as a result the bell curve is a symmetrical shape.  \n",
    "There exist a few aspects in life which make use of the Normal Gaussian Distribution, such as measuring height, blood pressure, marks on exams as well as measurement errors from these aspects."
   ]
  },
  {
   "cell_type": "markdown",
   "metadata": {},
   "source": [
    "The Standard Deviation is known as a measurement of how numbers are distributed or spread out on the normal curve.  \n",
    "Denoted by the Greek symbol sigma (σ), standard deviation is calculated by getting the square root of the variance in the randomly generated data set.  \n",
    "Variance is calculated via the mean denoted by the Greek symbol mu (μ), subtracting the mean from each number followed by squaring each number, which yields the squared difference.  \n",
    "The mean is then calculated from the squared differences which gives us the variance."
   ]
  },
  {
   "cell_type": "code",
   "execution_count": null,
   "metadata": {},
   "outputs": [],
   "source": [
    "# Generating a normal distribution plot to see whether random data is normally distributed (or not)\n",
    "mu = 5\n",
    "std = 10\n",
    "snd = stats.norm(mu, std)\n",
    "\n",
    "# Generating 1,000 random values set between -100 & 100\n",
    "x = np.linspace(-100, 100, 1000)\n",
    "\n",
    "# Plotting the normal distribution for random values within the specified range\n",
    "plt.figure(figsize = (7.5, 7.5))\n",
    "plt.plot(x, snd.pdf(x))\n",
    "plt.xlim(-60, 60)\n",
    "plt.title('Normal Distribution (Mean = 5, Standard Deviation = 10)', fontsize = '12')\n",
    "plt.xlabel('Values of Random Variable (x)', fontsize = '12')\n",
    "plt.ylabel('Probability', fontsize = '12')\n",
    "plt.show()"
   ]
  },
  {
   "cell_type": "markdown",
   "metadata": {},
   "source": [
    "References:  \n",
    "https://en.wikipedia.org/wiki/Normal_distribution  \n",
    "https://www.investopedia.com/terms/n/normaldistribution.asp  \n",
    "https://www.britannica.com/topic/normal-distribution  \n",
    "https://statisticsbyjim.com/basics/normal-distribution/  \n",
    "https://vitalflux.com/normal-distribution-explained-python-examples/  \n"
   ]
  }
 ],
 "metadata": {
  "kernelspec": {
   "display_name": "Python 3.10.x 64-bit (microsoft store)",
   "language": "python",
   "name": "python3"
  },
  "language_info": {
   "name": "python",
   "version": "3.10"
  },
  "orig_nbformat": 4,
  "vscode": {
   "interpreter": {
    "hash": "a1f82d0fd1be96d5c2cfc8b5b6d623de297a3323bdcee05967133f841892dc18"
   }
  }
 },
 "nbformat": 4,
 "nbformat_minor": 2
}
