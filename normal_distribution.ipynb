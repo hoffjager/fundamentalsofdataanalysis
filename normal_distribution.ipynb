{
 "cells": [
  {
   "cell_type": "markdown",
   "metadata": {},
   "source": [
    "This Jupyter notebook is to explain the normal distribution in Mathematics & Statistics.  \n",
    "The normal distribution (also known as the Gaussian distribution) is an important tool that is used to show probability distribution for randomly generated variables in a data set.  \n",
    "A normal distribution is symmetrical about the mean (average) value of the random data set, meaning data near to the mean value occur more frequently.  \n",
    "The plot of the normal distribution shows the data as a bell curve."
   ]
  },
  {
   "cell_type": "code",
   "execution_count": null,
   "metadata": {},
   "outputs": [],
   "source": [
    "# importing NumPy to access numerical arrays\n",
    "import numpy as np\n",
    "# importing MatPlotLib to create histograms\n",
    "import matplotlib.pyplot as plt\n",
    "# importing Scipy Stats to utilise statistical functions\n",
    "import scipy.stats as stats\n",
    "\n",
    "# Creating a new, seeded random number generator\n",
    "rng = np.random.default_rng(0)\n",
    "# Generating 1,000,000 numbers on a standard normal distribution\n",
    "samples = rng.standard_normal(1000000)\n",
    "\n",
    "# Creating a figure\n",
    "fig, ax = plt.subplots()\n",
    "# Creating a histogram with the above random data\n",
    "ax.hist(samples, bins = 100)"
   ]
  },
  {
   "cell_type": "markdown",
   "metadata": {},
   "source": [
    "As previously mentioned, the majority of randomly generated variables occur around the mean, and this means the probability of variables further from the mean are more scarce and go equally in both directions.  \n",
    "This is how values within a variable are distributed as the name would suggest, as a result the bell curve is a symmetrical shape.  \n",
    "There exist a few aspects in life which make use of the Normal Gaussian Distribution, such as measuring height, blood pressure, marks on exams as well as measurement errors from these aspects."
   ]
  },
  {
   "cell_type": "markdown",
   "metadata": {},
   "source": [
    "The Standard Deviation is known as a measurement of how numbers are distributed or spread out on the normal curve.  \n",
    "Denoted by the Greek symbol sigma (σ), standard deviation is calculated by getting the square root of the variance in the randomly generated data set.  \n",
    "Variance is calculated via the mean denoted by the Greek symbol mu (μ), subtracting the mean from each number followed by squaring each number, which yields the squared difference.  \n",
    "The mean is then calculated from the squared differences which gives us the variance."
   ]
  },
  {
   "cell_type": "code",
   "execution_count": null,
   "metadata": {},
   "outputs": [],
   "source": [
    "# Generating a normal distribution plot to see whether random data is normally distributed (or not)\n",
    "# Setting values for mean and standard deviation\n",
    "mu = 5\n",
    "std = 10\n",
    "snd = stats.norm(mu, std)\n",
    "\n",
    "# Generating 1,000 random values set between -100 & 100\n",
    "x = np.linspace(-100, 100, 1000)\n",
    "\n",
    "# Plotting the normal distribution for random values within the specified range\n",
    "# pdf() stands for probability density function, this generates probability estimates \n",
    "plt.figure(figsize = (7.5, 7.5))\n",
    "plt.plot(x, snd.pdf(x))\n",
    "plt.xlim(-60, 60)\n",
    "plt.title('Normal Distribution (Mean = 5, Standard Deviation = 10)', fontsize = '12')\n",
    "plt.xlabel('Values of Random Variable (x)', fontsize = '12')\n",
    "plt.ylabel('Probability', fontsize = '12')\n",
    "plt.show()"
   ]
  },
  {
   "cell_type": "code",
   "execution_count": null,
   "metadata": {},
   "outputs": [],
   "source": [
    "# Generating multiple plots with different values set for mean and SD\n",
    "# Setting the values of the random variable x\n",
    "x = np.linspace(-10, 10, 100)\n",
    "plt.figure(figsize = (7.5, 7.5))\n",
    "\n",
    "# setting values for mean and SD respectively\n",
    "plt.plot(x, stats.norm(0, 1).pdf(x))\n",
    "plt.plot(x, stats.norm(1, 0.75).pdf(x))\n",
    "plt.plot(x, stats.norm(2, 1.5).pdf(x))\n",
    "\n",
    "plt.xlim(-10, 10)\n",
    "plt.title('Normal Distribution', fontsize = '12')\n",
    "plt.xlabel('Values of Random Variable (x)', fontsize = '12')\n",
    "plt.ylabel('Probability', fontsize = '12')\n",
    "plt.show()"
   ]
  },
  {
   "attachments": {},
   "cell_type": "markdown",
   "metadata": {},
   "source": [
    "The Empirical Rule is useful in relation to normal distribution.  \n",
    "The standard deviation is a property that is part of the Empirical Rule, where it describes the percentage of data that are units of standard deviation (SD) further away from the mean value.  \n",
    "68% of random observations occur within + or -1 SD.  \n",
    "95% occur within + or -2 SD, and 99.7% within + or -3 SD.  \n",
    "In other words, the plot below details pizza delivery times and the standard deviations that exist.  \n",
    "On average, a pizza is delivered in 60 minutes (more or less), the standard deviation is the 'more or less' aspect, which is set to 10 minutes.  \n",
    "68% of the deliveries occur within + or -1 SD, between 50 & 70 minutes.  \n",
    "95% of deliveries occur within + or -2 SD, between 40 & 80 minutes.  \n",
    "99.7% of deliveries occur within + or -3 SD, between 30 & 90 minutes.  \n"
   ]
  },
  {
   "cell_type": "code",
   "execution_count": null,
   "metadata": {},
   "outputs": [],
   "source": [
    "# Generating a plot to examine pizza delivery times\n",
    "# Setting values for mean and standard deviation\n",
    "mu = 60\n",
    "std = 10\n",
    "snd = stats.norm(mu, std)\n",
    "\n",
    "# Generating 1,000 random values set between -100 & 100\n",
    "x = np.linspace(-100, 100, 1000)\n",
    "\n",
    "plt.figure(figsize = (7.5, 7.5))\n",
    "plt.plot(x, snd.pdf(x))\n",
    "plt.xlim(-60, 60)\n",
    "plt.title('Normal Distribution of Pizza Delivery Times (Mean = 60 minutes, Standard Deviation = 10 minutes)', fontsize = '12')\n",
    "plt.xlabel('Minutes', fontsize = '12')\n",
    "plt.ylabel('Density', fontsize = '12')\n",
    "plt.show()"
   ]
  },
  {
   "cell_type": "markdown",
   "metadata": {},
   "source": [
    "References:  \n",
    "https://en.wikipedia.org/wiki/Normal_distribution  \n",
    "https://www.investopedia.com/terms/n/normaldistribution.asp  \n",
    "https://www.britannica.com/topic/normal-distribution  \n",
    "https://statisticsbyjim.com/basics/normal-distribution/  \n",
    "https://vitalflux.com/normal-distribution-explained-python-examples/  \n"
   ]
  }
 ],
 "metadata": {
  "kernelspec": {
   "display_name": "Python 3.10.x 64-bit (microsoft store)",
   "language": "python",
   "name": "python3"
  },
  "language_info": {
   "name": "python"
  },
  "orig_nbformat": 4,
  "vscode": {
   "interpreter": {
    "hash": "a1f82d0fd1be96d5c2cfc8b5b6d623de297a3323bdcee05967133f841892dc18"
   }
  }
 },
 "nbformat": 4,
 "nbformat_minor": 2
}
