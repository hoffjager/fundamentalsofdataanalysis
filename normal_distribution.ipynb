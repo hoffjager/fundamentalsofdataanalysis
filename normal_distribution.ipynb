{
 "cells": [
  {
   "cell_type": "markdown",
   "metadata": {},
   "source": [
    "This Jupyter notebook is to explain the normal distribution in Mathematics & Statistics.\n",
    "The normal distribution (also known as the Gaussian distribution) is an important tool that is used to show probability distribution for randomly generated variables in a data set.\n",
    "A normal distribution is symmetrical about the mean (average) value of the random data set, meaning data near to the mean value occur more frequently.\n",
    "The plot of the normal distribution shows the data as a bell curve"
   ]
  },
  {
   "cell_type": "code",
   "execution_count": null,
   "metadata": {},
   "outputs": [],
   "source": [
    "# importing NumPy to access numerical arrays\n",
    "import numpy as np\n",
    "# importing MatPlotLib to create histograms\n",
    "import matplotlib.pyplot as plt\n",
    "\n",
    "# Creating new, seeded random number generator\n",
    "rng = np.random.default_rng(0)\n",
    "# Generating 1000000 numbers on a standard normal distribution\n",
    "samples = rng.standard_normal(1000000)\n",
    "\n",
    "# Creating a figure\n",
    "fig, ax = plt.subplots()\n",
    "# Creating a histogram with the above random data\n",
    "ax.hist(samples, bins=100)"
   ]
  },
  {
   "cell_type": "markdown",
   "metadata": {},
   "source": [
    "References:\n",
    "https://en.wikipedia.org/wiki/Normal_distribution\n",
    "https://www.investopedia.com/terms/n/normaldistribution.asp\n",
    "https://www.mathsisfun.com/data/standard-normal-distribution.html\n",
    "https://www.britannica.com/topic/normal-distribution\n",
    "https://statisticsbyjim.com/basics/normal-distribution/"
   ]
  }
 ],
 "metadata": {
  "kernelspec": {
   "display_name": "Python 3.10.x 64-bit (microsoft store)",
   "language": "python",
   "name": "python3"
  },
  "language_info": {
   "name": "python",
   "version": "3.10"
  },
  "orig_nbformat": 4,
  "vscode": {
   "interpreter": {
    "hash": "a1f82d0fd1be96d5c2cfc8b5b6d623de297a3323bdcee05967133f841892dc18"
   }
  }
 },
 "nbformat": 4,
 "nbformat_minor": 2
}
