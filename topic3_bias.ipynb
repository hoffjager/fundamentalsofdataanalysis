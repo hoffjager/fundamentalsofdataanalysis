{
 "cells": [
  {
   "cell_type": "code",
   "execution_count": null,
   "metadata": {},
   "outputs": [],
   "source": [
    "# Bias\n",
    "\n",
    "# importing numerical arrays\n",
    "import numpy as np\n",
    "# plotting capabilities\n",
    "import matplotlib.pyplot as plt\n",
    "\n",
    "# Cognitive Bias\n",
    "# There are distinctive patterns in the errors that people make.\n",
    "# Systematic errors are known as biases and recur predictably in particular circumstances\n",
    "# When a handsome & confident speaker takes to the stage,\n",
    "# we anticipate that the audience will judge his comments\n",
    "# more favourably than what he deserves."
   ]
  },
  {
   "cell_type": "code",
   "execution_count": null,
   "metadata": {},
   "outputs": [],
   "source": [
    "# Exercise 1: Give three real-world examples of different types of cognitive bias\n",
    "\n",
    "# https://www.towergateinsurance.co.uk/liability-insurance/cognitive-biases\n",
    "# https://positivepsychology.com/cognitive-biases/"
   ]
  },
  {
   "cell_type": "markdown",
   "metadata": {},
   "source": [
    "Example 1: Gender Bias  \n",
    "This bias focuses on our human tendencies to assign specific characteristics and behaviours to a particular gender while not providing supportive evidence, deeming these as stereotypes.  \n",
    "Certain stereotypes such as, women are more caring than men, men have better salaries than women, but without any concrete statistics/evidence to duly confirm these, it can be seen as misinformation and we easily accept these as fact."
   ]
  },
  {
   "cell_type": "markdown",
   "metadata": {},
   "source": [
    "Example 2: Anchoring Effect  \n",
    "We humans tend to cling or anchor to only the first piece of information presented to us without doing further research on the matter.  \n",
    "This bias is common when purchasing an item, for example, during negotiations, the seller sets the price of their car to €2,000 but the buyer haggles them down to €1,750.  \n",
    "The buyer will feel they bagged a bargain, although the Latin phrase Caveat Emptor applies, meaning \"let the buyer beware\".  \n",
    "The seller can choose to raise the price beyond its actual worth compared to similar car models advertised, they would not state the exact price of €1,500 because they would be haggled down further.  \n",
    "The buyer may neglect to conduct detailed research on buying a car, they can just easily choose a buyer in close proximity to their town instead of looking further for a more affordable car."
   ]
  },
  {
   "cell_type": "markdown",
   "metadata": {},
   "source": [
    "Example 3: Confirmation Bias  \n",
    "This bias is based on searching for information that only confirms our own beliefs and expectations regarding various societal matters.  \n",
    "This only serves to provide the individual with self-assurance and security but as the saying goes, \"that is only one side of the coin\".  \n",
    "It is biased as you will only focus on your agenda and not consider the opinions and perspectives of others to help understand societal matters in a better way."
   ]
  },
  {
   "cell_type": "code",
   "execution_count": null,
   "metadata": {},
   "outputs": [],
   "source": [
    "# Statistical Bias\n",
    "# Mean and standard deviation are two common calculations in the world of statistics.\n",
    "# Mean is what's known as the average (adding up all numbers you have then dividing the total by the number of numbers)\n",
    "\n",
    "# Mean\n",
    "# Generating a sample of 1000 values from a normal distribution\n",
    "x = np.random.normal(10.0, 1.0, 1000)\n",
    "x"
   ]
  },
  {
   "cell_type": "code",
   "execution_count": null,
   "metadata": {},
   "outputs": [],
   "source": [
    "# If we take the mean of the sample, it is a good estimate of the population mean\n",
    "x.mean()"
   ]
  },
  {
   "cell_type": "code",
   "execution_count": null,
   "metadata": {},
   "outputs": [],
   "source": [
    "# What is meant by a good estimate? We will take more samples and investigate this\n",
    "# Running a simulation of taking 1000 samples of size 1000\n",
    "samples = np.random.normal(10.0, 1.0, (1000, 1000))\n",
    "samples"
   ]
  },
  {
   "cell_type": "code",
   "execution_count": null,
   "metadata": {},
   "outputs": [],
   "source": [
    "# calculating the mean of the 1st sample\n",
    "samples[0].mean()"
   ]
  },
  {
   "cell_type": "code",
   "execution_count": null,
   "metadata": {},
   "outputs": [],
   "source": [
    "# calculating the mean of all samples\n",
    "sample_means = samples.mean(axis = 1)\n",
    "sample_means"
   ]
  },
  {
   "cell_type": "code",
   "execution_count": null,
   "metadata": {},
   "outputs": [],
   "source": [
    "# plotting results on a histogram\n",
    "plt.hist(sample_means)"
   ]
  },
  {
   "cell_type": "code",
   "execution_count": null,
   "metadata": {},
   "outputs": [],
   "source": [
    "# Histograms\n",
    "# Standard Deviation\n",
    "# Calculation is not as familiar as the mean\n",
    "# It's designed to give a measure of how far the numbers are away from the mean in general\n",
    "\n",
    "# an array of numbers with one large number\n",
    "numbers1 = np.array([1, 1, 1, 1, 10])\n",
    "# the mean of array\n",
    "np.mean(numbers1)\n",
    "\n",
    "# an array of numbers all close together\n",
    "numbers2 = np.array([2, 2, 3, 3, 4])\n",
    "# the mean of array\n",
    "np.mean(numbers2)\n",
    "\n",
    "# The mean values are limited as a summary of the data points\n",
    "# So we use standard deviation, giving us a measure of the spread"
   ]
  },
  {
   "cell_type": "code",
   "execution_count": null,
   "metadata": {},
   "outputs": [],
   "source": [
    "# Generating sample to calculate standard deviation\n",
    "x = np.random.normal(10.0, 1.0, 1000)\n",
    "x\n",
    "\n",
    "# calculating the mean\n",
    "x_mean = x.mean()\n",
    "# subtracting the mean from each value\n",
    "zeroed = x - x.mean\n",
    "zeroed\n",
    "\n",
    "# calculating the mean of zeroed\n",
    "zeroed.mean()\n",
    "print(f'{zeroed.mean():0.4f}')\n",
    "\n",
    "# subtracting the mean of the sample results in the mean being 0\n",
    "# Standard deviation is an adjustment to the calculation above\n",
    "# We want to summarise the zeroed array without losing information about the distance of each point from the mean "
   ]
  },
  {
   "cell_type": "code",
   "execution_count": null,
   "metadata": {},
   "outputs": [],
   "source": [
    "# creating a plot\n",
    "fig, ax = plt.subplots(figsize = (12, 6))\n",
    "# plotting the zeroed array\n",
    "ax.plot(range(len(zeroed)), zeroed, 'k.')\n",
    "# plotting the y = 0 line\n",
    "ax.axhline(y = 0.0, color = 'grey', linestyle = '-')"
   ]
  },
  {
   "cell_type": "code",
   "execution_count": null,
   "metadata": {},
   "outputs": [],
   "source": [
    "# We could take the average (vertical) distance each point is from the mean of 0\n",
    "# But there are positive and negative values in the plot\n",
    "# Sum the array\n",
    "print(f'{zeroed.sum():0.4f}')"
   ]
  },
  {
   "cell_type": "code",
   "execution_count": null,
   "metadata": {},
   "outputs": [],
   "source": [
    "# Sum = 0, so we can try to take the absolute value\n",
    "# We expect distances to be positive\n",
    "\n",
    "# Absolute values\n",
    "np.abs(zeroed)\n",
    "# Average absolute value\n",
    "np.mean(np.abs(zeroed))\n",
    "\n",
    "# Reasonable spread is observed, so we would square the values to ensure positive values\n",
    "# Squaring the values\n",
    "np.square(zeroed)\n",
    "\n",
    "# When numbers are squared, the larger values get larger\n",
    "# Larger deviations from the mean will contribute relatively more to the standard deviation as a result"
   ]
  },
  {
   "cell_type": "code",
   "execution_count": null,
   "metadata": {},
   "outputs": [],
   "source": [
    "# creating a plot\n",
    "fig, ax = plt.subplots(figsize = (12, 6))\n",
    "\n",
    "# plotting the squared zeroed array\n",
    "ax.plot(range(len(zeroed)), np.square(zeroed), color = 'red', marker = '.', linestyle = 'none')\n",
    "\n",
    "# plotting the zeroed array\n",
    "ax.plot(range(len(zeroed)), zeroed, 'k.')\n",
    "\n",
    "# plotting the y = 0 line\n",
    "ax.axhline(y = 0.0, color = 'grey', linestyle = '-')"
   ]
  },
  {
   "cell_type": "code",
   "execution_count": null,
   "metadata": {},
   "outputs": [],
   "source": [
    "# calculating the averaged squared result\n",
    "np.mean(np.square(zeroed))\n",
    "\n",
    "# We will take the square root of the answer\n",
    "np.sqrt(np.mean(np.square(zeroed)))\n",
    "\n",
    "# Full calculation (built into numpy) with the original array\n",
    "np.sqrt(np.mean(np.square(x - np.mean(x))))\n",
    "\n",
    "# Close to the 2nd parameter sent to np.random.normal"
   ]
  },
  {
   "cell_type": "code",
   "execution_count": null,
   "metadata": {},
   "outputs": [],
   "source": [
    "# Standard deviation function built in numpy\n",
    "x.std()"
   ]
  },
  {
   "cell_type": "code",
   "execution_count": null,
   "metadata": {},
   "outputs": [],
   "source": [
    "# Bessel's Correction\n",
    "# If we calculate the standard deviation of a sample, it is a biased estimator for the standard deviation of the population\n",
    "\n",
    "# Biased Estimators\n",
    "# If we use the above calculation on each sample, we systematically underestimate the standard deviation\n",
    "# We will use small samples to see in a plot\n",
    "\n",
    "# creating 100000 samples of size 5, where SD = 2.0\n",
    "samples = np.random.normal(0.0, 2.0, (100000, 5))\n",
    "samples"
   ]
  },
  {
   "cell_type": "code",
   "execution_count": null,
   "metadata": {},
   "outputs": [],
   "source": [
    "# calculating standard deviation without correction\n",
    "stdevs = samples.std(axis = 1)\n",
    "stdevs"
   ]
  },
  {
   "cell_type": "code",
   "execution_count": null,
   "metadata": {},
   "outputs": [],
   "source": [
    "# creating a histogram\n",
    "fig, ax = plt.subplots(figsize = (12, 6))\n",
    "# plotting a histogram\n",
    "plt.hist(stdevs, bins = 100)\n",
    "# drawing a vertical line where the actual SD is\n",
    "plt.axvline(x = 2.0, color = 'red')\n",
    "\n",
    "# The tip of the curve is below the actual value"
   ]
  },
  {
   "cell_type": "code",
   "execution_count": null,
   "metadata": {},
   "outputs": [],
   "source": [
    "# Bessel's Correction\n",
    "# This correction applies to the variance, which is the square of the standard deviation\n",
    "# It's what we get if we do not apply the np.sqrt function in our calculation for SD\n",
    "# The correction is to multiply the calculation by n/n-1\n",
    "\n",
    "# Uncorrected variance\n",
    "np.mean(np.square(x - np.mean(x)))\n",
    "# Corrected variance\n",
    "np.mean(np.square(x - np.mean(x))) * (len(x) / len(x) - 1.0)"
   ]
  },
  {
   "cell_type": "code",
   "execution_count": null,
   "metadata": {},
   "outputs": [],
   "source": [
    "# Exercise 2:\n",
    "# Show that the difference between the standard deviation\n",
    "# calculations is greatest for small sample sizes.\n",
    "\n",
    "# Research TBC"
   ]
  }
 ],
 "metadata": {
  "kernelspec": {
   "display_name": "Python 3.10.x 64-bit (microsoft store)",
   "language": "python",
   "name": "python3"
  },
  "language_info": {
   "name": "python",
   "version": "3.10"
  },
  "orig_nbformat": 4,
  "vscode": {
   "interpreter": {
    "hash": "a1f82d0fd1be96d5c2cfc8b5b6d623de297a3323bdcee05967133f841892dc18"
   }
  }
 },
 "nbformat": 4,
 "nbformat_minor": 2
}
