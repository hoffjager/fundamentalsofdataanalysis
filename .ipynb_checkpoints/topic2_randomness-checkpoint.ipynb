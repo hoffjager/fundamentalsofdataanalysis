{
 "cells": [
  {
   "cell_type": "markdown",
   "metadata": {},
   "source": [
    "Randomness"
   ]
  },
  {
   "cell_type": "markdown",
   "metadata": {},
   "source": [
    "Simulating a Coin Flip:  \n",
    "We can interpret 1 as heads & 0 as tails, so there's a probability of 50/50.  \n",
    "Probabilities are numbers between 0 and 1 inclusive.  \n",
    "If an event happens with a probability of 0, it means it has a 0% chance of happening, a 1 means it will definitely happen.  \n",
    "A probability of 0.1 means a 10% chance, 0.2 means a 20% chance, etc."
   ]
  },
  {
   "cell_type": "code",
   "execution_count": null,
   "metadata": {},
   "outputs": [],
   "source": [
    "# Numpy module used to work with numbers\n",
    "import numpy as np\n",
    "\n",
    "# Flipping a fair coin (new random coin flip upon re-running the code)\n",
    "np.random.binomial(1, 0.5)"
   ]
  },
  {
   "cell_type": "markdown",
   "metadata": {},
   "source": [
    "Repeated Flips:  \n",
    "We flip a fair coin, with 50/50 probability 100 times.  \n",
    "If we were to delete the 3rd parameter (100 times) in the formula, then change the value of the 1st parameter (1 coin to 100 coins), we will only see the coins that land on heads.  \n",
    "Then which coin flips landed on heads?"
   ]
  },
  {
   "cell_type": "code",
   "execution_count": null,
   "metadata": {},
   "outputs": [],
   "source": [
    "import numpy as np\n",
    "\n",
    "# Flipping a fair coin 100 times\n",
    "np.random.binomial(1, 0.5, 100)\n",
    "\n",
    "# Flipping 100 fair coins\n",
    "np.random.binomial(100, 0.5)"
   ]
  },
  {
   "cell_type": "markdown",
   "metadata": {},
   "source": [
    "Twice 50/50:  \n",
    "The code block below repeatedly flips 10 coins and prints out the first 3 arrays where we achieve 5 heads."
   ]
  },
  {
   "cell_type": "code",
   "execution_count": null,
   "metadata": {},
   "outputs": [],
   "source": [
    "# Number of arrays\n",
    "N = 3\n",
    "# Tracking the number of arrays generated\n",
    "total_no = 0\n",
    "# While loop to continue until 3 instances of 5 heads occur\n",
    "while N > 0:\n",
    "    # Add 1 to total when 5 heads are achieved\n",
    "    total_no = total_no + 1\n",
    "    # Tossing a random coin 10 times\n",
    "    tosses = np.random.binomial(1, 0.5, 10)\n",
    "    # Checking to see if we achieved 5 heads\n",
    "    if tosses.sum() == 5:\n",
    "        # If we achieved 5 heads, we print the list of heads/tails\n",
    "        print(tosses)\n",
    "        # Reduce the number of examples left to find by 1\n",
    "        N = N - 1\n",
    "\n",
    "print(\"\\n\"f'Total Generated: {total_no}')"
   ]
  },
  {
   "cell_type": "markdown",
   "metadata": {},
   "source": [
    "This code block results in 3 arrays, with 5 heads in each array where the heads are randomly distributed throughout each of the 3 arrays. "
   ]
  },
  {
   "cell_type": "markdown",
   "metadata": {},
   "source": [
    "Counting Heads:  \n",
    "\n",
    "In the code above, when we flip coins, 1's and 0's will randomly generate, so how can we select placeholders to house 1's?  \n",
    "\n",
    "For #1, we can put it in the 1st placeholder, 2nd or any placeholder, 10 choices are available, then 9 choices are left.  \n",
    "For #2, 9 choices are available,  \n",
    "for #3, 8 choices are available,  \n",
    "for #4, 7 choices are available,  \n",
    "for #5, 6 choices remain,  \n",
    "for #6, 5 choices remain.  \n",
    "After this, all choice is gone and 0's go in the remaining placeholders."
   ]
  },
  {
   "cell_type": "markdown",
   "metadata": {},
   "source": [
    "Why multiply the numbers together instead of adding them?  \n",
    "\n",
    "Working out the 1st part of the calculation: 10 x 9 x 8 x 7 x 6  \n",
    "When we have 10 choices for the 1st instance and 9 choices for the 2nd instance, we multiply 10 & 9 to get the total number of combinations.  \n",
    "Working out the 2nd part of the calculation: 5 x 4 x 3 x 2 x 1  \n",
    "The first line says (1,2), the 10th line is (2,1), double counted.  \n",
    "\n",
    "If we inspect the list of all 90 possible combinations, every outcome is counted twice.  \n",
    "So we will need to divide 90 by 2, to get 45 distinct placements of the first two heads.  \n",
    "\n",
    "For each of the 45 placements of the first two 1's, we will triple count the placement of the 3rd 1, so we divide by 3:  \n",
    "1 _ _ 1 _ 1 _ _ _ _, this results from placing the 3rd 1 in the correct position for each of these placements of two 1's:  \n",
    "\n",
    "1 _ _ 1 _ _ _ _ _ _, placing the 3rd 1 in the 6th placeholder  \n",
    "1 _ _ _ _ 1 _ _ _ _, placing the 3rd 1 in the 4th placeholder  \n",
    "_ _ _ 1 _ 1 _ _ _ _, placing the 3rd 1 in the 1st placeholder  \n",
    "\n",
    "We count each placement of the 4th head four times, and the 5th head five times, so we divide by both 4 and 5.  \n",
    "This gives division by 5 x 4 x 3 x 2 x 1"
   ]
  },
  {
   "cell_type": "code",
   "execution_count": null,
   "metadata": {},
   "outputs": [],
   "source": [
    "# Formula for counting number of heads\n",
    "(10*9*8*7*6) // (5*4*3*2*1)\n",
    "\n",
    "# Number of combinations\n",
    "no_combs = 0\n",
    "# Select the first position\n",
    "for first in [1, 2, 3, 4, 5, 6, 7, 8, 9, 10]:\n",
    "    # Select the second position\n",
    "    for second in [1, 2, 3, 4, 5, 6, 7, 8, 9, 10]:\n",
    "        # Ensuring both positions are different\n",
    "        if not first == second:\n",
    "            # print the combination\n",
    "            print(f'({first: 2}, {second: 2})')\n",
    "            # add one to the number of combinations\n",
    "            no_combs = no_combs + 1\n",
    "\n",
    "# printing total number of combinations\n",
    "print(f'Total combinations is: {no_combs}.')"
   ]
  },
  {
   "cell_type": "markdown",
   "metadata": {},
   "source": []
  },
  {
   "cell_type": "markdown",
   "metadata": {},
   "source": [
    "Exercise 1:  \n",
    "If we only wanted exactly 4 heads, the equivalent calculation would be:  \n",
    "(10 x 9 x 8 x 7) / (4 x 3 x 2 x 1)  \n",
    "Does this evenly divide? What is the general formula?  \n",
    "Does it always result in a positive whole number?"
   ]
  },
  {
   "cell_type": "markdown",
   "metadata": {},
   "source": [
    "Reference: https://getcalc.com/probability-atleast-4heads-5tosses.htm  \n",
    "\n",
    "First, we want to find out the number of possible combinations from flipping 5 coins within a single array.  \n",
    "Second, we find the expected events, permutations of coin flipping where 4 heads or more would occur.  \n",
    "Finally, the probability is then calculated by dividing the number of expected events by the total possible combinations in the array."
   ]
  },
  {
   "cell_type": "code",
   "execution_count": null,
   "metadata": {},
   "outputs": [],
   "source": [
    "# possible combinations in the array A\n",
    "A = {HHHHH, HHHHT, HHHTH, HHHTT, HHTHH, HHTHT, HHTTH, HHTTT,\n",
    "HTHHH, HTHHT, HTHTH, HTHTT, HTTHH, HTTHT, HTTTH, HTTTT,\n",
    "THHHH, THHHT, THHTH, THHTT, THTHH, THTHT, THTTH, THTTT,\n",
    "TTHHH, TTHHT, TTHTH, TTHTT, TTTHH, TTTHT, TTTTH, TTTTT}\n",
    "A = 32\n",
    "\n",
    "# finding the expected events E, being exactly 4 heads in any order possible\n",
    "E = {HHHHT, HHHTH, HHTHH, HTHHH, THHHH}\n",
    "E = 5\n",
    "\n",
    "# finding the probability P(E)\n",
    "# P(E) = expected events E / possible combinations A\n",
    "E/A"
   ]
  },
  {
   "cell_type": "markdown",
   "metadata": {},
   "source": [
    "In conclusion, the probability of exactly 4 heads from 5 coin flips is 0.16, not a positive whole number."
   ]
  },
  {
   "cell_type": "markdown",
   "metadata": {},
   "source": [
    "Unknown Number of Heads:  \n",
    "We don't know how many heads we'll get, how many possibilities are there?  \n",
    "\n",
    "There is only one way to get no heads and all tails:  \n",
    "0 0 0 0 0 0 0 0 0 0  \n",
    "\n",
    "There are ten ways to get 1 head and 9 tails:  \n",
    "1 0 0 0 0 0 0 0 0 0  \n",
    "0 1 0 0 0 0 0 0 0 0  \n",
    "0 0 1 0 0 0 0 0 0 0  \n",
    "etc.  \n",
    "\n",
    "There are 45 ways to get 2 heads,  \n",
    "There are 252 ways to get 5 heads.  \n",
    "\n",
    "We could calculate possibilities of getting all the other amount of heads and sum it up.  \n",
    "But an easier calculation is that there are 2 possibilities per coin flip, so 2^10 possible results from 10 coin flips."
   ]
  },
  {
   "cell_type": "code",
   "execution_count": null,
   "metadata": {},
   "outputs": [],
   "source": [
    "# calculation where there are 2 possibilities (heads or tails) from flipping 10 coins\n",
    "2**10"
   ]
  },
  {
   "cell_type": "markdown",
   "metadata": {},
   "source": [
    "Exercise 2:  \n",
    "There are the same number of ways to get 4 tails as there is to get 4 heads, explain why this is the case:"
   ]
  },
  {
   "cell_type": "markdown",
   "metadata": {},
   "source": [
    "The probability of getting either heads or tails when flipping 10 random coins is 50/50, equally likely to happen."
   ]
  },
  {
   "cell_type": "markdown",
   "metadata": {},
   "source": [
    "Flipping 10 fair coins via Numpy:  \n",
    "Picking 1 of 1,024 possible results at random.  \n",
    "\"At random\" meaning that each possibility has an equal chance of being selected, probability of 1/1,024"
   ]
  },
  {
   "cell_type": "code",
   "execution_count": null,
   "metadata": {},
   "outputs": [],
   "source": [
    "1.0 / 1024.0"
   ]
  },
  {
   "cell_type": "markdown",
   "metadata": {},
   "source": [
    "This gives the same chance of all heads being selected (or tails) as any other possibility.  \n",
    "If we start out with a fair coin and flip it 10 times, any sequence of 1's & 0's has the same chance of showing up.  \n",
    "If you wonder what is the chance of getting a certain number of heads, irrespective of their order, there are far more possibilities for 5 heads than 0 heads.  \n",
    "The formula used earlier in the notebook has the name choose, called comb, which is built into the math library in Python."
   ]
  },
  {
   "cell_type": "code",
   "execution_count": null,
   "metadata": {},
   "outputs": [],
   "source": [
    "# Probability of getting 5 heads\n",
    "252 / 1024\n",
    "# Probability of getting 0 heads\n",
    "1 / 1024\n",
    "\n",
    "import math\n",
    "math.comb(10, 5)\n",
    "\n",
    "# importing plotting module\n",
    "import matplotlib.pyplot as plt\n",
    "\n",
    "# number of coins to flip\n",
    "coins = 10\n",
    "\n",
    "# numbers from 0 to 10 inclusive\n",
    "x = list(range(coins + 1))\n",
    "# number of ways of selecting i things from 10\n",
    "y = [math.comb(coins, i) for i in x]\n",
    "\n",
    "# displaying variables in a bar chart\n",
    "plt.bar(x, y)"
   ]
  },
  {
   "cell_type": "markdown",
   "metadata": {},
   "source": [
    "Testing NumPy:  \n",
    "We will run 10,000 trials, keeping track of heads and plotting our results."
   ]
  },
  {
   "cell_type": "code",
   "execution_count": null,
   "metadata": {},
   "outputs": [],
   "source": [
    "# flipping 10 coins\n",
    "coins = 10\n",
    "# running 10,000 trials\n",
    "trials = 10000\n",
    "# running the trials and storing number of heads in variable\n",
    "heads = np.random.binomial(coins, 0.5, trials)\n",
    "# counting unique values in the returned list\n",
    "vals, counts = np.unique(heads, return_counts = True)\n",
    "# plotting the results in a histogram\n",
    "plt.bar(vals, counts)"
   ]
  },
  {
   "cell_type": "code",
   "execution_count": null,
   "metadata": {},
   "outputs": [],
   "source": [
    "# flipping 1 coin\n",
    "coins = 1\n",
    "# running 10,000 trials\n",
    "trials = 10000\n",
    "# running the trials and storing number of heads in variable\n",
    "heads = np.random.binomial(coins, 0.5, trials)\n",
    "# counting unique values in the returned list\n",
    "vals, counts = np.unique(heads, return_counts = True)\n",
    "# plotting the results in a histogram\n",
    "plt.bar(vals, counts)"
   ]
  },
  {
   "cell_type": "code",
   "execution_count": null,
   "metadata": {},
   "outputs": [],
   "source": [
    "# The number of possible outcomes\n",
    "N = 11\n",
    "# The next biggest power of 2, is 16\n",
    "B = 4\n",
    "# Flipping B number of coins\n",
    "flips = np.random.binomial(1, 0.5, B)\n",
    "# Converting to binary\n",
    "number = 0\n",
    "for i in range(len(flips)):\n",
    "    number = number + flips[i] * 2**i\n",
    "# Print the flips & decimal number\n",
    "print(flips, number)"
   ]
  },
  {
   "cell_type": "markdown",
   "metadata": {},
   "source": [
    "Distributions:  \n",
    "Numpy has many distributions available as functions."
   ]
  },
  {
   "cell_type": "code",
   "execution_count": null,
   "metadata": {},
   "outputs": [],
   "source": [
    "# Making a function of the above code block to generate and convert coin flips to integers\n",
    "def gen_number(B = 4):\n",
    "    # Flipping B number of coins\n",
    "    flips = np.random.binomial(1, 0.5, B)\n",
    "    # Converting to binary\n",
    "    number = 0\n",
    "    for i in range(len(flips)):\n",
    "        number = number + flips[i] * 2**i\n",
    "    # returning number\n",
    "    return number\n",
    "\n",
    "# testing function\n",
    "gen_number()"
   ]
  },
  {
   "cell_type": "markdown",
   "metadata": {},
   "source": [
    "We will run this function several times more below.  \n",
    "We then plot the counts of outcomes and unique values in the returned list onto a histogram."
   ]
  },
  {
   "cell_type": "code",
   "execution_count": null,
   "metadata": {},
   "outputs": [],
   "source": [
    "no_outcomes = 10000\n",
    "# generating outcomes using above function\n",
    "outcomes = [gen_number() for i in range(no_outcomes)]\n",
    "\n",
    "vals, counts = np.unique(outcomes, return_counts = True)\n",
    "plt.bar(vals, counts)"
   ]
  },
  {
   "cell_type": "markdown",
   "metadata": {},
   "source": [
    "Possible Outcomes in Flipping 4 Coins:  \n",
    "0000, 0001, 0010, 0011, 0100, 0101, 0110, 0111, 1000, 1001, 1010, 1011, 1100, 1101, 1110, 1111.  \n",
    "Each instance is equally likely to occur but we are particularly interested in the sequencing of heads and tails, rewritten in binary as 1's & 0's."
   ]
  },
  {
   "cell_type": "code",
   "execution_count": null,
   "metadata": {},
   "outputs": [],
   "source": [
    "no_outcomes = 10000\n",
    "# generating outcomes in an array\n",
    "outcomes = []\n",
    "while len(outcomes) < no_outcomes:\n",
    "    next_number = gen_number()\n",
    "    if next_number <= 10:\n",
    "        outcomes.append(next_number)\n",
    "\n",
    "vals, counts = np.unique(outcomes, return_counts = True)\n",
    "plt.bar(vals, counts)"
   ]
  },
  {
   "cell_type": "code",
   "execution_count": null,
   "metadata": {},
   "outputs": [],
   "source": [
    "no_outcomes = 10000\n",
    "# generating outcomes in an array\n",
    "outcomes = []\n",
    "while len(outcomes) < no_outcomes:\n",
    "    next_number = gen_number()\n",
    "    if 1 <= next_number and next_number <= 10:\n",
    "        outcomes.append(next_number)\n",
    "\n",
    "vals, counts = np.unique(outcomes, return_counts = True)\n",
    "plt.bar(vals, counts)"
   ]
  },
  {
   "cell_type": "markdown",
   "metadata": {},
   "source": [
    "Random Distributions in NumPy:  \n",
    "https://numpy.org/doc/stable/reference/random/index.html"
   ]
  },
  {
   "cell_type": "code",
   "execution_count": null,
   "metadata": {},
   "outputs": [],
   "source": [
    "# creating a random number generator\n",
    "rng = np.random.default_rng()\n",
    "\n",
    "vals = rng.standard_normal(10)\n",
    "vals\n",
    "\n",
    "more_vals = rng.standard_normal(10)\n",
    "more_vals\n",
    "\n",
    "np.random.standard_normal(10)\n",
    "\n",
    "rng = np.random.default_rng(0)\n",
    "\n",
    "vals = rng.standard_normal(10)\n",
    "vals"
   ]
  },
  {
   "cell_type": "markdown",
   "metadata": {},
   "source": [
    "Standard Normal"
   ]
  },
  {
   "cell_type": "code",
   "execution_count": null,
   "metadata": {},
   "outputs": [],
   "source": [
    "# Creating new, seeded random number generator\n",
    "rng = np.random.default_rng(0)\n",
    "# Generating 1,000 numbers on a standard normal distribution\n",
    "samples = rng.standard_normal(10000)\n",
    "\n",
    "# Creating a figure\n",
    "fig, ax = plt.subplots()\n",
    "# Creating a histogram\n",
    "ax.hist(samples, bins = 100)"
   ]
  },
  {
   "cell_type": "markdown",
   "metadata": {},
   "source": [
    "Exercise 3:  \n",
    "Plot bar charts/histograms of any three different distributions listed in the link below:  \n",
    "https://numpy.org/doc/stable/reference/random/generator.html#distributions"
   ]
  },
  {
   "cell_type": "markdown",
   "metadata": {},
   "source": [
    "Plot #1 = Binomial Distribution:  \n",
    "This distribution expresses the probability of a given number of successes in a sequence of experiments with a known probability for success in each experiment.  \n",
    "In this example, there will be 100 experiments conducted, with a 50% probability of success per experiment.  \n",
    "Reference: https://www.alphacodingskills.com/numpy/numpy-binomial-distribution.php"
   ]
  },
  {
   "cell_type": "code",
   "execution_count": null,
   "metadata": {},
   "outputs": [],
   "source": [
    "# importing matplotlib to create plots and NumPy to work with formulae.\n",
    "import matplotlib.pyplot as plt\n",
    "import numpy as np\n",
    "\n",
    "# setting random seed generator\n",
    "np.random.seed(10)\n",
    "# setting number of experiments to be conducted\n",
    "size = 10000\n",
    "# conducting probability experiments\n",
    "sample = np.random.binomial(100, 0.5, size)\n",
    "bin = np.arange(0, 100, 1)\n",
    "\n",
    "# plotting histogram\n",
    "plt.hist(sample, bins = bin, edgecolor = 'red')\n",
    "plt.title('Binomial Distribution')\n",
    "plt.show()"
   ]
  },
  {
   "cell_type": "markdown",
   "metadata": {},
   "source": [
    "Plot #2 = Gamma Distribution:  \n",
    "This distribution is used to model probabilities related to waiting times.  \n",
    "The x axis will display potential values from the Gamma distributed random variable.  \n",
    "The y axis will display the corresponding pdf (probability density function) values of Gamma.  \n",
    "Reference: https://www.statology.org/gamma-distribution-in-python/"
   ]
  },
  {
   "cell_type": "code",
   "execution_count": null,
   "metadata": {},
   "outputs": [],
   "source": [
    "# importing matplotlib to create plots and NumPy & SciPy to work with formulae.\n",
    "import scipy.stats as stats\n",
    "import matplotlib.pyplot as plt\n",
    "import numpy as np\n",
    "\n",
    "# establishing values for the x axis\n",
    "x = np.linspace(0, 40, 100)\n",
    "\n",
    "# setting shape parameter to 5 and scale parameter to 3\n",
    "y = stats.gamma.pdf(x, a = 5, scale = 3)\n",
    "\n",
    "# plotting histogram of the random Gamma distribution\n",
    "plt.plot(x, y)\n",
    "plt.show()"
   ]
  },
  {
   "cell_type": "markdown",
   "metadata": {},
   "source": [
    "Plot #3 = Geometric Distribution:  \n",
    "This distribution expresses the probability distribution of a random variable representing a number of Bernoulli trials, which deem whether values either succeed or fail.  \n",
    "References:  \n",
    "https://www.alphacodingskills.com/numpy/numpy-geometric-distribution.php  \n",
    "https://vitalflux.com/geometric-distribution-explained-with-python-examples/"
   ]
  },
  {
   "cell_type": "code",
   "execution_count": null,
   "metadata": {},
   "outputs": [],
   "source": [
    "# importing matplotlib to create plots and NumPy to work with formulae.\n",
    "import matplotlib.pyplot as plt\n",
    "import numpy as np\n",
    "\n",
    "# setting random seed generator\n",
    "np.random.seed(10)\n",
    "# setting number of experiments to be conducted\n",
    "size = 10000\n",
    "# conducting probability experiments\n",
    "sample = np.random.geometric(0.5, size)\n",
    "bin = np.arange(0, 20, 1)\n",
    "\n",
    "# plotting histogram\n",
    "plt.hist(sample, bins = bin, edgecolor = 'green')\n",
    "plt.title('Geometric Distribution')\n",
    "plt.show()"
   ]
  },
  {
   "cell_type": "code",
   "execution_count": null,
   "metadata": {},
   "outputs": [],
   "source": []
  }
 ],
 "metadata": {
  "kernelspec": {
   "display_name": "Python 3 (ipykernel)",
   "language": "python",
   "name": "python3"
  },
  "language_info": {
   "codemirror_mode": {
    "name": "ipython",
    "version": 3
   },
   "file_extension": ".py",
   "mimetype": "text/x-python",
   "name": "python",
   "nbconvert_exporter": "python",
   "pygments_lexer": "ipython3",
   "version": "3.9.13"
  },
  "vscode": {
   "interpreter": {
    "hash": "a1f82d0fd1be96d5c2cfc8b5b6d623de297a3323bdcee05967133f841892dc18"
   }
  }
 },
 "nbformat": 4,
 "nbformat_minor": 2
}
